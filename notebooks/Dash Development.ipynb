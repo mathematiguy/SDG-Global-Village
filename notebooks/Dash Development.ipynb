{
 "cells": [
  {
   "cell_type": "markdown",
   "metadata": {},
   "source": [
    "# Dash Development"
   ]
  },
  {
   "cell_type": "markdown",
   "metadata": {},
   "source": [
    "We want to start off by creating a chloropleth map"
   ]
  },
  {
   "cell_type": "markdown",
   "metadata": {},
   "source": [
    "## Chloropleth Map"
   ]
  },
  {
   "cell_type": "code",
   "execution_count": 1,
   "metadata": {
    "collapsed": true
   },
   "outputs": [],
   "source": [
    "import plotly.plotly as py\n",
    "import numpy as np\n",
    "import pandas as pd\n",
    "\n",
    "import matplotlib\n",
    "import matplotlib.pyplot as plt\n",
    "% matplotlib inline"
   ]
  },
  {
   "cell_type": "code",
   "execution_count": 2,
   "metadata": {
    "collapsed": true
   },
   "outputs": [],
   "source": [
    "df = pd.read_csv('https://raw.githubusercontent.com/plotly/datasets/master/2014_world_gdp_with_codes.csv')"
   ]
  },
  {
   "cell_type": "code",
   "execution_count": 3,
   "metadata": {},
   "outputs": [
    {
     "data": {
      "text/html": [
       "<div>\n",
       "<table border=\"1\" class=\"dataframe\">\n",
       "  <thead>\n",
       "    <tr style=\"text-align: right;\">\n",
       "      <th></th>\n",
       "      <th>COUNTRY</th>\n",
       "      <th>GDP (BILLIONS)</th>\n",
       "      <th>CODE</th>\n",
       "    </tr>\n",
       "  </thead>\n",
       "  <tbody>\n",
       "    <tr>\n",
       "      <th>0</th>\n",
       "      <td>Afghanistan</td>\n",
       "      <td>21.71</td>\n",
       "      <td>AFG</td>\n",
       "    </tr>\n",
       "    <tr>\n",
       "      <th>1</th>\n",
       "      <td>Albania</td>\n",
       "      <td>13.40</td>\n",
       "      <td>ALB</td>\n",
       "    </tr>\n",
       "    <tr>\n",
       "      <th>2</th>\n",
       "      <td>Algeria</td>\n",
       "      <td>227.80</td>\n",
       "      <td>DZA</td>\n",
       "    </tr>\n",
       "    <tr>\n",
       "      <th>3</th>\n",
       "      <td>American Samoa</td>\n",
       "      <td>0.75</td>\n",
       "      <td>ASM</td>\n",
       "    </tr>\n",
       "    <tr>\n",
       "      <th>4</th>\n",
       "      <td>Andorra</td>\n",
       "      <td>4.80</td>\n",
       "      <td>AND</td>\n",
       "    </tr>\n",
       "  </tbody>\n",
       "</table>\n",
       "</div>"
      ],
      "text/plain": [
       "          COUNTRY  GDP (BILLIONS) CODE\n",
       "0     Afghanistan           21.71  AFG\n",
       "1         Albania           13.40  ALB\n",
       "2         Algeria          227.80  DZA\n",
       "3  American Samoa            0.75  ASM\n",
       "4         Andorra            4.80  AND"
      ]
     },
     "execution_count": 3,
     "metadata": {},
     "output_type": "execute_result"
    }
   ],
   "source": [
    "df.head()"
   ]
  },
  {
   "cell_type": "code",
   "execution_count": 4,
   "metadata": {
    "collapsed": true
   },
   "outputs": [],
   "source": [
    "df[['COUNTRY', 'CODE']].to_csv(\"country_codes.csv\")"
   ]
  },
  {
   "cell_type": "code",
   "execution_count": 5,
   "metadata": {},
   "outputs": [
    {
     "data": {
      "text/plain": [
       "222"
      ]
     },
     "execution_count": 5,
     "metadata": {},
     "output_type": "execute_result"
    }
   ],
   "source": [
    "len(df)"
   ]
  },
  {
   "cell_type": "code",
   "execution_count": 6,
   "metadata": {
    "collapsed": true
   },
   "outputs": [],
   "source": [
    "data = [ dict(\n",
    "        type = 'choropleth',\n",
    "        locations = df['CODE'],\n",
    "        z = df['GDP (BILLIONS)'],\n",
    "        text = df['COUNTRY'],\n",
    "        colorscale = [[0,\"rgb(5, 10, 172)\"],[0.35,\"rgb(40, 60, 190)\"],[0.5,\"rgb(70, 100, 245)\"],\\\n",
    "            [0.6,\"rgb(90, 120, 245)\"],[0.7,\"rgb(106, 137, 247)\"],[1,\"rgb(220, 220, 220)\"]],\n",
    "        autocolorscale = False,\n",
    "        reversescale = True,\n",
    "        marker = dict(\n",
    "            line = dict (\n",
    "                color = 'rgb(180,180,180)',\n",
    "                width = 0.5\n",
    "            ) ),\n",
    "        colorbar = dict(\n",
    "            autotick = False,\n",
    "            tickprefix = '$',\n",
    "            title = 'GDP<br>Billions US$'),\n",
    "      ) ]"
   ]
  },
  {
   "cell_type": "code",
   "execution_count": 7,
   "metadata": {
    "collapsed": true
   },
   "outputs": [],
   "source": [
    "layout = dict(\n",
    "    title = '2014 Global GDP<br>Source:\\\n",
    "            <a href=\"https://www.cia.gov/library/publications/the-world-factbook/fields/2195.html\">\\\n",
    "            CIA World Factbook</a>',\n",
    "    geo = dict(\n",
    "        showframe = False,\n",
    "        showcoastlines = False,\n",
    "        projection = dict(\n",
    "            type = 'Robinson'\n",
    "        )\n",
    "    )\n",
    ")"
   ]
  },
  {
   "cell_type": "code",
   "execution_count": 8,
   "metadata": {},
   "outputs": [
    {
     "name": "stdout",
     "output_type": "stream",
     "text": [
      "creating plot..\n",
      "High five! You successfuly sent some data to your account on plotly. View your plot in your browser at https://plot.ly/~mathematiguy/0 or inside your plot.ly account where it is named 'd3-world-map'\n"
     ]
    },
    {
     "data": {
      "text/html": [
       "<iframe id=\"igraph\" scrolling=\"no\" style=\"border:none;\" seamless=\"seamless\" src=\"https://plot.ly/~mathematiguy/0.embed\" height=\"525px\" width=\"100%\"></iframe>"
      ],
      "text/plain": [
       "<plotly.tools.PlotlyDisplay object>"
      ]
     },
     "execution_count": 8,
     "metadata": {},
     "output_type": "execute_result"
    }
   ],
   "source": [
    "print(\"creating plot..\")\n",
    "fig = dict( data=data, layout=layout)\n",
    "py.iplot(fig, validate=False, filename='d3-world-map')"
   ]
  },
  {
   "cell_type": "markdown",
   "metadata": {},
   "source": [
    "## Using graph_objs"
   ]
  },
  {
   "cell_type": "code",
   "execution_count": 9,
   "metadata": {
    "collapsed": true
   },
   "outputs": [],
   "source": [
    "import plotly.graph_objs as go\n",
    "import numpy as np"
   ]
  },
  {
   "cell_type": "code",
   "execution_count": 10,
   "metadata": {
    "collapsed": true
   },
   "outputs": [],
   "source": [
    "go.Choropleth?"
   ]
  },
  {
   "cell_type": "code",
   "execution_count": 11,
   "metadata": {},
   "outputs": [
    {
     "data": {
      "text/plain": [
       "array([ 1.,  1.,  1.,  1.,  1.,  1.,  1.,  1.,  1.,  1.,  1.,  1.,  1.,\n",
       "        1.,  1.,  1.,  1.,  1.,  1.,  1.,  1.,  1.,  1.,  1.,  1.,  1.,\n",
       "        1.,  1.,  1.,  1.,  1.,  1.,  1.,  1.,  1.,  1.,  1.,  1.,  1.,\n",
       "        1.,  1.,  1.,  1.,  1.,  1.,  1.,  1.,  1.,  1.,  1.,  1.,  1.,\n",
       "        1.,  1.,  1.,  1.,  1.,  1.,  1.,  1.,  1.,  1.,  1.,  1.,  1.,\n",
       "        1.,  1.,  1.,  1.,  1.,  1.,  1.,  1.,  1.,  1.,  1.,  1.,  1.,\n",
       "        1.,  1.,  1.,  1.,  1.,  1.,  1.,  1.,  1.,  1.,  1.,  1.,  1.,\n",
       "        1.,  1.,  1.,  1.,  1.,  1.,  1.,  1.,  1.,  1.,  1.,  1.,  1.,\n",
       "        1.,  1.,  1.,  1.,  1.,  1.,  1.,  1.,  1.,  1.,  1.,  1.,  1.,\n",
       "        1.,  1.,  1.,  1.,  1.,  1.,  1.,  1.,  1.,  1.,  1.,  1.,  1.,\n",
       "        1.,  1.,  1.,  1.,  1.,  1.,  1.,  1.,  1.,  1.,  1.,  1.,  1.,\n",
       "        1.,  1.,  1.,  1.,  1.,  1.,  1.,  1.,  1.,  1.,  1.,  1.,  1.,\n",
       "        1.,  1.,  1.,  1.,  1.,  1.,  1.,  1.,  1.,  1.,  1.,  1.,  1.,\n",
       "        1.,  1.,  1.,  1.,  1.,  1.,  1.,  1.,  1.,  1.,  1.,  1.,  1.,\n",
       "        1.,  1.,  1.,  1.,  1.,  1.,  1.,  1.,  1.,  1.,  1.,  1.,  1.,\n",
       "        1.,  1.,  1.,  1.,  1.,  1.,  1.,  1.,  1.,  1.,  1.,  1.,  1.,\n",
       "        1.,  1.,  1.,  1.,  1.,  1.,  1.,  1.,  1.,  1.,  1.,  1.,  1.,  1.])"
      ]
     },
     "execution_count": 11,
     "metadata": {},
     "output_type": "execute_result"
    }
   ],
   "source": [
    "np.ones(len(df))"
   ]
  },
  {
   "cell_type": "code",
   "execution_count": 12,
   "metadata": {
    "collapsed": true
   },
   "outputs": [],
   "source": [
    "df = pd.read_csv(\"indicators_by_topic.csv\", sep = \"\\t\", encoding = \"utf-8\")"
   ]
  },
  {
   "cell_type": "code",
   "execution_count": 13,
   "metadata": {},
   "outputs": [
    {
     "data": {
      "text/html": [
       "<div>\n",
       "<table border=\"1\" class=\"dataframe\">\n",
       "  <thead>\n",
       "    <tr style=\"text-align: right;\">\n",
       "      <th></th>\n",
       "      <th>topic</th>\n",
       "      <th>indicator_id</th>\n",
       "      <th>priority_rank</th>\n",
       "      <th>priority_order</th>\n",
       "      <th>indicator_description</th>\n",
       "    </tr>\n",
       "  </thead>\n",
       "  <tbody>\n",
       "    <tr>\n",
       "      <th>0</th>\n",
       "      <td>animals</td>\n",
       "      <td>C150102</td>\n",
       "      <td>2</td>\n",
       "      <td>11521</td>\n",
       "      <td>15.1.2 Proportion of important sites for terre...</td>\n",
       "    </tr>\n",
       "    <tr>\n",
       "      <th>1</th>\n",
       "      <td>cities</td>\n",
       "      <td>C110101</td>\n",
       "      <td>2</td>\n",
       "      <td>11121</td>\n",
       "      <td>11.1.1 Proportion of urban population living i...</td>\n",
       "    </tr>\n",
       "    <tr>\n",
       "      <th>2</th>\n",
       "      <td>cities</td>\n",
       "      <td>C110602</td>\n",
       "      <td>2</td>\n",
       "      <td>11122</td>\n",
       "      <td>11.6.2 Annual mean levels of fine particulate ...</td>\n",
       "    </tr>\n",
       "    <tr>\n",
       "      <th>3</th>\n",
       "      <td>computers</td>\n",
       "      <td>C040401</td>\n",
       "      <td>1</td>\n",
       "      <td>10412</td>\n",
       "      <td>4.4.1 Proportion of youth and adults with info...</td>\n",
       "    </tr>\n",
       "    <tr>\n",
       "      <th>4</th>\n",
       "      <td>computers</td>\n",
       "      <td>C090c01</td>\n",
       "      <td>2</td>\n",
       "      <td>10926</td>\n",
       "      <td>9.c.1 Proportion of population covered by a mo...</td>\n",
       "    </tr>\n",
       "  </tbody>\n",
       "</table>\n",
       "</div>"
      ],
      "text/plain": [
       "       topic indicator_id  priority_rank  priority_order  \\\n",
       "0    animals      C150102              2           11521   \n",
       "1     cities      C110101              2           11121   \n",
       "2     cities      C110602              2           11122   \n",
       "3  computers      C040401              1           10412   \n",
       "4  computers      C090c01              2           10926   \n",
       "\n",
       "                               indicator_description  \n",
       "0  15.1.2 Proportion of important sites for terre...  \n",
       "1  11.1.1 Proportion of urban population living i...  \n",
       "2  11.6.2 Annual mean levels of fine particulate ...  \n",
       "3  4.4.1 Proportion of youth and adults with info...  \n",
       "4  9.c.1 Proportion of population covered by a mo...  "
      ]
     },
     "execution_count": 13,
     "metadata": {},
     "output_type": "execute_result"
    }
   ],
   "source": [
    "df.head()"
   ]
  },
  {
   "cell_type": "code",
   "execution_count": 14,
   "metadata": {
    "collapsed": true
   },
   "outputs": [],
   "source": [
    "topics = (df.topic.sort_values().unique())"
   ]
  },
  {
   "cell_type": "code",
   "execution_count": 15,
   "metadata": {},
   "outputs": [
    {
     "data": {
      "text/plain": [
       "array(['animals', 'cities', 'computers', 'fish', 'food', 'girls', 'health',\n",
       "       'homes', 'money', 'nature', 'oceans', 'people', 'plants',\n",
       "       'pollution', 'poos', 'power', 'school', 'science', 'seas',\n",
       "       'sharing', 'technology', 'transport', 'water', 'weather', 'working'], dtype=object)"
      ]
     },
     "execution_count": 15,
     "metadata": {},
     "output_type": "execute_result"
    }
   ],
   "source": [
    "topics"
   ]
  },
  {
   "cell_type": "code",
   "execution_count": 16,
   "metadata": {
    "collapsed": true
   },
   "outputs": [],
   "source": [
    "simple_wiki = pd.read_csv(\"simple_wiki.csv\")"
   ]
  },
  {
   "cell_type": "code",
   "execution_count": 17,
   "metadata": {},
   "outputs": [
    {
     "data": {
      "text/html": [
       "<div>\n",
       "<table border=\"1\" class=\"dataframe\">\n",
       "  <thead>\n",
       "    <tr style=\"text-align: right;\">\n",
       "      <th></th>\n",
       "      <th>name</th>\n",
       "      <th>wiki_name</th>\n",
       "      <th>raw_summary</th>\n",
       "      <th>clean_summary</th>\n",
       "      <th>sent_count</th>\n",
       "      <th>token_count</th>\n",
       "      <th>first_sent</th>\n",
       "    </tr>\n",
       "  </thead>\n",
       "  <tbody>\n",
       "    <tr>\n",
       "      <th>0</th>\n",
       "      <td>Afghanistan</td>\n",
       "      <td>Afghanistan</td>\n",
       "      <td>Afghanistān (officially called Islamic Republi...</td>\n",
       "      <td>Afghanistān is a country in South Asia. It has...</td>\n",
       "      <td>8</td>\n",
       "      <td>137</td>\n",
       "      <td>Afghanistān is a country in South Asia.</td>\n",
       "    </tr>\n",
       "    <tr>\n",
       "      <th>1</th>\n",
       "      <td>Albania</td>\n",
       "      <td>Albania</td>\n",
       "      <td>Albania (officially called Republic of Albania...</td>\n",
       "      <td>Albania is an independent republic in Southeas...</td>\n",
       "      <td>8</td>\n",
       "      <td>109</td>\n",
       "      <td>Albania is an independent republic in Southeas...</td>\n",
       "    </tr>\n",
       "    <tr>\n",
       "      <th>2</th>\n",
       "      <td>Algeria</td>\n",
       "      <td>Algeria</td>\n",
       "      <td>Algeria (official name: People's Democratic Re...</td>\n",
       "      <td>Algeria is a country in the Western part of No...</td>\n",
       "      <td>5</td>\n",
       "      <td>79</td>\n",
       "      <td>Algeria is a country in the Western part of No...</td>\n",
       "    </tr>\n",
       "    <tr>\n",
       "      <th>3</th>\n",
       "      <td>American Samoa</td>\n",
       "      <td>American Samoa</td>\n",
       "      <td>American Samoa is a territory of the United St...</td>\n",
       "      <td>American Samoa is a territory of the United St...</td>\n",
       "      <td>6</td>\n",
       "      <td>133</td>\n",
       "      <td>American Samoa is a territory of the United St...</td>\n",
       "    </tr>\n",
       "    <tr>\n",
       "      <th>4</th>\n",
       "      <td>Andorra</td>\n",
       "      <td>Andorra</td>\n",
       "      <td>Andorra (officially called the Principality of...</td>\n",
       "      <td>Andorra is a European country between Spain an...</td>\n",
       "      <td>9</td>\n",
       "      <td>98</td>\n",
       "      <td>Andorra is a European country between Spain an...</td>\n",
       "    </tr>\n",
       "  </tbody>\n",
       "</table>\n",
       "</div>"
      ],
      "text/plain": [
       "             name       wiki_name  \\\n",
       "0     Afghanistan     Afghanistan   \n",
       "1         Albania         Albania   \n",
       "2         Algeria         Algeria   \n",
       "3  American Samoa  American Samoa   \n",
       "4         Andorra         Andorra   \n",
       "\n",
       "                                         raw_summary  \\\n",
       "0  Afghanistān (officially called Islamic Republi...   \n",
       "1  Albania (officially called Republic of Albania...   \n",
       "2  Algeria (official name: People's Democratic Re...   \n",
       "3  American Samoa is a territory of the United St...   \n",
       "4  Andorra (officially called the Principality of...   \n",
       "\n",
       "                                       clean_summary  sent_count  token_count  \\\n",
       "0  Afghanistān is a country in South Asia. It has...           8          137   \n",
       "1  Albania is an independent republic in Southeas...           8          109   \n",
       "2  Algeria is a country in the Western part of No...           5           79   \n",
       "3  American Samoa is a territory of the United St...           6          133   \n",
       "4  Andorra is a European country between Spain an...           9           98   \n",
       "\n",
       "                                          first_sent  \n",
       "0            Afghanistān is a country in South Asia.  \n",
       "1  Albania is an independent republic in Southeas...  \n",
       "2  Algeria is a country in the Western part of No...  \n",
       "3  American Samoa is a territory of the United St...  \n",
       "4  Andorra is a European country between Spain an...  "
      ]
     },
     "execution_count": 17,
     "metadata": {},
     "output_type": "execute_result"
    }
   ],
   "source": [
    "simple_wiki.head()"
   ]
  },
  {
   "cell_type": "code",
   "execution_count": 18,
   "metadata": {
    "collapsed": true
   },
   "outputs": [],
   "source": [
    "# -*- coding: utf-8 -*-\n",
    "import dash\n",
    "import dash_core_components as dcc\n",
    "import dash_html_components as html\n",
    "from dash.dependencies import Input, Output\n",
    "import json\n",
    "\n",
    "import plotly.graph_objs as go"
   ]
  },
  {
   "cell_type": "code",
   "execution_count": 19,
   "metadata": {},
   "outputs": [
    {
     "data": {
      "text/plain": [
       "['A',\n",
       " 'Abbr',\n",
       " 'Acronym',\n",
       " 'Address',\n",
       " 'Applet',\n",
       " 'Area',\n",
       " 'Article',\n",
       " 'Aside',\n",
       " 'Audio',\n",
       " 'B',\n",
       " 'Base',\n",
       " 'Basefont',\n",
       " 'Bdi',\n",
       " 'Bdo',\n",
       " 'Big',\n",
       " 'Blink',\n",
       " 'Blockquote',\n",
       " 'Br',\n",
       " 'Button',\n",
       " 'Canvas',\n",
       " 'Caption',\n",
       " 'Center',\n",
       " 'Cite',\n",
       " 'Code',\n",
       " 'Col',\n",
       " 'Colgroup',\n",
       " 'Command',\n",
       " 'Content',\n",
       " 'Data',\n",
       " 'Datalist',\n",
       " 'Dd',\n",
       " 'Del',\n",
       " 'Details',\n",
       " 'Dfn',\n",
       " 'Dialog',\n",
       " 'Dir',\n",
       " 'Div',\n",
       " 'Dl',\n",
       " 'Dt',\n",
       " 'Element',\n",
       " 'Em',\n",
       " 'Embed',\n",
       " 'Fieldset',\n",
       " 'Figcaption',\n",
       " 'Figure',\n",
       " 'Font',\n",
       " 'Footer',\n",
       " 'Form',\n",
       " 'Frame',\n",
       " 'Frameset',\n",
       " 'H1',\n",
       " 'H2',\n",
       " 'H3',\n",
       " 'H4',\n",
       " 'H5',\n",
       " 'H6',\n",
       " 'Header',\n",
       " 'Hgroup',\n",
       " 'Hr',\n",
       " 'I',\n",
       " 'Iframe',\n",
       " 'Img',\n",
       " 'Ins',\n",
       " 'Isindex',\n",
       " 'Kbd',\n",
       " 'Keygen',\n",
       " 'Label',\n",
       " 'Legend',\n",
       " 'Li',\n",
       " 'Link',\n",
       " 'Listing',\n",
       " 'Main',\n",
       " 'MapEl',\n",
       " 'Mark',\n",
       " 'Marquee',\n",
       " 'Menu',\n",
       " 'Menuitem',\n",
       " 'Meta',\n",
       " 'Meter',\n",
       " 'Multicol',\n",
       " 'Nav',\n",
       " 'Nextid',\n",
       " 'Noembed',\n",
       " 'Noscript',\n",
       " 'ObjectEl',\n",
       " 'Ol',\n",
       " 'Optgroup',\n",
       " 'Option',\n",
       " 'Output',\n",
       " 'P',\n",
       " 'Param',\n",
       " 'Plaintext',\n",
       " 'Pre',\n",
       " 'Progress',\n",
       " 'Q',\n",
       " 'Rp',\n",
       " 'Rt',\n",
       " 'Rtc',\n",
       " 'Ruby',\n",
       " 'S',\n",
       " 'Samp',\n",
       " 'Script',\n",
       " 'Section',\n",
       " 'Select',\n",
       " 'Shadow',\n",
       " 'Slot',\n",
       " 'Small',\n",
       " 'Source',\n",
       " 'Spacer',\n",
       " 'Span',\n",
       " 'Strike',\n",
       " 'Strong',\n",
       " 'Sub',\n",
       " 'Summary',\n",
       " 'Sup',\n",
       " 'Table',\n",
       " 'Tbody',\n",
       " 'Td',\n",
       " 'Template',\n",
       " 'Textarea',\n",
       " 'Tfoot',\n",
       " 'Th',\n",
       " 'Thead',\n",
       " 'Time',\n",
       " 'Title',\n",
       " 'Tr',\n",
       " 'Track',\n",
       " 'Tt',\n",
       " 'U',\n",
       " 'Ul',\n",
       " 'Var',\n",
       " 'Video',\n",
       " 'Wbr',\n",
       " 'Xmp',\n",
       " '__builtins__',\n",
       " '__cached__',\n",
       " '__doc__',\n",
       " '__file__',\n",
       " '__loader__',\n",
       " '__name__',\n",
       " '__package__',\n",
       " '__path__',\n",
       " '__spec__',\n",
       " '__version__',\n",
       " '_components',\n",
       " '_current_path',\n",
       " '_dash',\n",
       " '_js_dist',\n",
       " '_os',\n",
       " '_sys',\n",
       " '_this_module',\n",
       " 'component',\n",
       " 'version']"
      ]
     },
     "execution_count": 19,
     "metadata": {},
     "output_type": "execute_result"
    }
   ],
   "source": [
    "dir(html)"
   ]
  },
  {
   "cell_type": "code",
   "execution_count": 28,
   "metadata": {
    "collapsed": true
   },
   "outputs": [],
   "source": [
    "from nltk.tokenize import sent_tokenize, word_tokenize"
   ]
  },
  {
   "cell_type": "code",
   "execution_count": 34,
   "metadata": {},
   "outputs": [
    {
     "data": {
      "text/plain": [
       "\"Canada is a country and sovereign state in North America, located to the north of the United States. Its land reaches from the Atlantic Ocean in the east to the Pacific Ocean in the west and the Arctic Ocean to the north, covering 9.98 million square kilometres, making it the world's second-largest country by total area and the fourth-largest country by land area. It has the world's longest coastline and is the only one to touch three oceans. Canada is divided into ten provinces and three territories. Most parts of the country have a cold or severely cold winter climate, but areas to the south are warm in summer.\""
      ]
     },
     "execution_count": 34,
     "metadata": {},
     "output_type": "execute_result"
    }
   ],
   "source": [
    "\" \".join(sent_tokenize(simple_wiki[simple_wiki.name == \"Canada\"].clean_summary.values[0])[:5])"
   ]
  },
  {
   "cell_type": "code",
   "execution_count": 3,
   "metadata": {
    "collapsed": true
   },
   "outputs": [],
   "source": [
    "from google import google, images"
   ]
  },
  {
   "cell_type": "code",
   "execution_count": 4,
   "metadata": {},
   "outputs": [
    {
     "name": "stderr",
     "output_type": "stream",
     "text": [
      "C:\\Users\\caleb\\Anaconda3\\lib\\site-packages\\bs4\\__init__.py:181: UserWarning: No parser was explicitly specified, so I'm using the best available HTML parser for this system (\"lxml\"). This usually isn't a problem, but if you run this code on another system, or in a different virtual environment, it may use a different parser and behave differently.\n",
      "\n",
      "The code that caused this warning is on line 193 of the file C:\\Users\\caleb\\Anaconda3\\lib\\runpy.py. To get rid of this warning, change code that looks like this:\n",
      "\n",
      " BeautifulSoup(YOUR_MARKUP})\n",
      "\n",
      "to this:\n",
      "\n",
      " BeautifulSoup(YOUR_MARKUP, \"lxml\")\n",
      "\n",
      "  markup_type=markup_type))\n"
     ]
    }
   ],
   "source": [
    "options = images.ImageOptions()\n",
    "options.image_type = images.ImageType.CLIPART\n",
    "options.color_type = 'color'\n",
    "options.license = 'f'\n",
    "options.larger_than = images.LargerThan.MP_12\n",
    "# options.color = \"green\"\n",
    "results = google.search_images(\"banana\", options)"
   ]
  },
  {
   "cell_type": "code",
   "execution_count": 60,
   "metadata": {},
   "outputs": [
    {
     "data": {
      "text/plain": [
       "\"Canada is a country and sovereign state in North America, located to the north of the United States. Its land reaches from the Atlantic Ocean in the east to the Pacific Ocean in the west and the Arctic Ocean to the north, covering 9.98 million square kilometres, making it the world's second-largest country by total area and the fourth-largest country by land area. It has the world's longest coastline and is the only one to touch three oceans. Canada is divided into ten provinces and three territories. Most parts of the country have a cold or severely cold winter climate, but areas to the south are warm in summer. Much of the land contains forests or tundra, with the Rocky Mountains towards the west. About four fifths of Canada's 36 million people live in urban areas near the southern border with the U.S, the longest between any two countries in the world. The national capital is Ottawa, and the largest city is Toronto; other large cities include Montreal, Vancouver, Calgary, Edmonton, Quebec City, Winnipeg and Hamilton. For a long time, the land which is now part of Canada has been home to many Aboriginal people. Beginning in the 16th century, the French and British empires made colonies in eastern Canada, first by the French in 1537. Because of conflicts between both British and French, each side gained and lost territories within British North America until it was left, in the late 18th century, with what is more or less part of Canada today. The country was formed with the British North America Act on July 1, 1867, when several colonies joined together to make a semi-federal Dominion. Over time, more provinces and territories became part of Canada until it became the ten provinces and three territories we know of today. In 1931, Canada achieved near total independence from the United Kingdom with the Statute of Westminster 1931, and became completely independent when the Canada Act 1982 removed the last remaining ties of legal dependence on the Parliament of the United Kingdom. Canada is a federal parliamentary democracy and a constitutional monarchy, with Queen Elizabeth II of the United Kingdom as its head of state. The country is officially bilingual at the federal level, meaning that citizens have the right to communicate with the government in either English or French. It is one of the world's most ethnically diverse and multicultural nations since lots of people moved from many other countries to Canada. Its economy is the eleventh largest in the world, and relies mainly on natural resources and well-developed international trade networks. Canada's long and complicated relationship with its biggest trading partner, the U.S.  has had a big impact on its economy and culture. Canada is a developed country and has the tenth highest nominal per capita income globally as well as the ninth highest ranking in the Human Development Index. It ranks among the highest in international measurements of government transparency, civil liberties, quality of life, economic freedom, and education. Canada is a Commonwealth realm member of the Commonwealth of Nations, a member of the Francophonie, and part of several major international and intergovernmental institutions or groupings including the United Nations, the North Atlantic Treaty Organization, the G8, the Group of Ten, the G20, the North American Free Trade Agreement and the Asia-Pacific Economic Cooperation forum.\""
      ]
     },
     "execution_count": 60,
     "metadata": {},
     "output_type": "execute_result"
    }
   ],
   "source": [
    "simple_wiki[simple_wiki.name == \"Canada\"].clean_summary.values[0]"
   ]
  },
  {
   "cell_type": "markdown",
   "metadata": {
    "collapsed": true
   },
   "source": [
    "# loading the SDG Data"
   ]
  },
  {
   "cell_type": "code",
   "execution_count": 5,
   "metadata": {},
   "outputs": [
    {
     "ename": "FileNotFoundError",
     "evalue": "File b'data/sdg_data.csv' does not exist",
     "output_type": "error",
     "traceback": [
      "\u001b[1;31m---------------------------------------------------------------------------\u001b[0m",
      "\u001b[1;31mFileNotFoundError\u001b[0m                         Traceback (most recent call last)",
      "\u001b[1;32m<ipython-input-5-f00c083fa3a2>\u001b[0m in \u001b[0;36m<module>\u001b[1;34m()\u001b[0m\n\u001b[1;32m----> 1\u001b[1;33m \u001b[0msdg_data\u001b[0m \u001b[1;33m=\u001b[0m \u001b[0mpd\u001b[0m\u001b[1;33m.\u001b[0m\u001b[0mread_csv\u001b[0m\u001b[1;33m(\u001b[0m\u001b[1;34m\"data/sdg_data.csv\"\u001b[0m\u001b[1;33m,\u001b[0m \u001b[0mencoding\u001b[0m\u001b[1;33m=\u001b[0m\u001b[1;34m'ansi'\u001b[0m\u001b[1;33m)\u001b[0m\u001b[1;33m\u001b[0m\u001b[0m\n\u001b[0m",
      "\u001b[1;32mC:\\Users\\caleb\\Anaconda3\\lib\\site-packages\\pandas\\io\\parsers.py\u001b[0m in \u001b[0;36mparser_f\u001b[1;34m(filepath_or_buffer, sep, delimiter, header, names, index_col, usecols, squeeze, prefix, mangle_dupe_cols, dtype, engine, converters, true_values, false_values, skipinitialspace, skiprows, nrows, na_values, keep_default_na, na_filter, verbose, skip_blank_lines, parse_dates, infer_datetime_format, keep_date_col, date_parser, dayfirst, iterator, chunksize, compression, thousands, decimal, lineterminator, quotechar, quoting, escapechar, comment, encoding, dialect, tupleize_cols, error_bad_lines, warn_bad_lines, skipfooter, skip_footer, doublequote, delim_whitespace, as_recarray, compact_ints, use_unsigned, low_memory, buffer_lines, memory_map, float_precision)\u001b[0m\n\u001b[0;32m    653\u001b[0m                     skip_blank_lines=skip_blank_lines)\n\u001b[0;32m    654\u001b[0m \u001b[1;33m\u001b[0m\u001b[0m\n\u001b[1;32m--> 655\u001b[1;33m         \u001b[1;32mreturn\u001b[0m \u001b[0m_read\u001b[0m\u001b[1;33m(\u001b[0m\u001b[0mfilepath_or_buffer\u001b[0m\u001b[1;33m,\u001b[0m \u001b[0mkwds\u001b[0m\u001b[1;33m)\u001b[0m\u001b[1;33m\u001b[0m\u001b[0m\n\u001b[0m\u001b[0;32m    656\u001b[0m \u001b[1;33m\u001b[0m\u001b[0m\n\u001b[0;32m    657\u001b[0m     \u001b[0mparser_f\u001b[0m\u001b[1;33m.\u001b[0m\u001b[0m__name__\u001b[0m \u001b[1;33m=\u001b[0m \u001b[0mname\u001b[0m\u001b[1;33m\u001b[0m\u001b[0m\n",
      "\u001b[1;32mC:\\Users\\caleb\\Anaconda3\\lib\\site-packages\\pandas\\io\\parsers.py\u001b[0m in \u001b[0;36m_read\u001b[1;34m(filepath_or_buffer, kwds)\u001b[0m\n\u001b[0;32m    403\u001b[0m \u001b[1;33m\u001b[0m\u001b[0m\n\u001b[0;32m    404\u001b[0m     \u001b[1;31m# Create the parser.\u001b[0m\u001b[1;33m\u001b[0m\u001b[1;33m\u001b[0m\u001b[0m\n\u001b[1;32m--> 405\u001b[1;33m     \u001b[0mparser\u001b[0m \u001b[1;33m=\u001b[0m \u001b[0mTextFileReader\u001b[0m\u001b[1;33m(\u001b[0m\u001b[0mfilepath_or_buffer\u001b[0m\u001b[1;33m,\u001b[0m \u001b[1;33m**\u001b[0m\u001b[0mkwds\u001b[0m\u001b[1;33m)\u001b[0m\u001b[1;33m\u001b[0m\u001b[0m\n\u001b[0m\u001b[0;32m    406\u001b[0m \u001b[1;33m\u001b[0m\u001b[0m\n\u001b[0;32m    407\u001b[0m     \u001b[1;32mif\u001b[0m \u001b[0mchunksize\u001b[0m \u001b[1;32mor\u001b[0m \u001b[0miterator\u001b[0m\u001b[1;33m:\u001b[0m\u001b[1;33m\u001b[0m\u001b[0m\n",
      "\u001b[1;32mC:\\Users\\caleb\\Anaconda3\\lib\\site-packages\\pandas\\io\\parsers.py\u001b[0m in \u001b[0;36m__init__\u001b[1;34m(self, f, engine, **kwds)\u001b[0m\n\u001b[0;32m    760\u001b[0m             \u001b[0mself\u001b[0m\u001b[1;33m.\u001b[0m\u001b[0moptions\u001b[0m\u001b[1;33m[\u001b[0m\u001b[1;34m'has_index_names'\u001b[0m\u001b[1;33m]\u001b[0m \u001b[1;33m=\u001b[0m \u001b[0mkwds\u001b[0m\u001b[1;33m[\u001b[0m\u001b[1;34m'has_index_names'\u001b[0m\u001b[1;33m]\u001b[0m\u001b[1;33m\u001b[0m\u001b[0m\n\u001b[0;32m    761\u001b[0m \u001b[1;33m\u001b[0m\u001b[0m\n\u001b[1;32m--> 762\u001b[1;33m         \u001b[0mself\u001b[0m\u001b[1;33m.\u001b[0m\u001b[0m_make_engine\u001b[0m\u001b[1;33m(\u001b[0m\u001b[0mself\u001b[0m\u001b[1;33m.\u001b[0m\u001b[0mengine\u001b[0m\u001b[1;33m)\u001b[0m\u001b[1;33m\u001b[0m\u001b[0m\n\u001b[0m\u001b[0;32m    763\u001b[0m \u001b[1;33m\u001b[0m\u001b[0m\n\u001b[0;32m    764\u001b[0m     \u001b[1;32mdef\u001b[0m \u001b[0mclose\u001b[0m\u001b[1;33m(\u001b[0m\u001b[0mself\u001b[0m\u001b[1;33m)\u001b[0m\u001b[1;33m:\u001b[0m\u001b[1;33m\u001b[0m\u001b[0m\n",
      "\u001b[1;32mC:\\Users\\caleb\\Anaconda3\\lib\\site-packages\\pandas\\io\\parsers.py\u001b[0m in \u001b[0;36m_make_engine\u001b[1;34m(self, engine)\u001b[0m\n\u001b[0;32m    964\u001b[0m     \u001b[1;32mdef\u001b[0m \u001b[0m_make_engine\u001b[0m\u001b[1;33m(\u001b[0m\u001b[0mself\u001b[0m\u001b[1;33m,\u001b[0m \u001b[0mengine\u001b[0m\u001b[1;33m=\u001b[0m\u001b[1;34m'c'\u001b[0m\u001b[1;33m)\u001b[0m\u001b[1;33m:\u001b[0m\u001b[1;33m\u001b[0m\u001b[0m\n\u001b[0;32m    965\u001b[0m         \u001b[1;32mif\u001b[0m \u001b[0mengine\u001b[0m \u001b[1;33m==\u001b[0m \u001b[1;34m'c'\u001b[0m\u001b[1;33m:\u001b[0m\u001b[1;33m\u001b[0m\u001b[0m\n\u001b[1;32m--> 966\u001b[1;33m             \u001b[0mself\u001b[0m\u001b[1;33m.\u001b[0m\u001b[0m_engine\u001b[0m \u001b[1;33m=\u001b[0m \u001b[0mCParserWrapper\u001b[0m\u001b[1;33m(\u001b[0m\u001b[0mself\u001b[0m\u001b[1;33m.\u001b[0m\u001b[0mf\u001b[0m\u001b[1;33m,\u001b[0m \u001b[1;33m**\u001b[0m\u001b[0mself\u001b[0m\u001b[1;33m.\u001b[0m\u001b[0moptions\u001b[0m\u001b[1;33m)\u001b[0m\u001b[1;33m\u001b[0m\u001b[0m\n\u001b[0m\u001b[0;32m    967\u001b[0m         \u001b[1;32melse\u001b[0m\u001b[1;33m:\u001b[0m\u001b[1;33m\u001b[0m\u001b[0m\n\u001b[0;32m    968\u001b[0m             \u001b[1;32mif\u001b[0m \u001b[0mengine\u001b[0m \u001b[1;33m==\u001b[0m \u001b[1;34m'python'\u001b[0m\u001b[1;33m:\u001b[0m\u001b[1;33m\u001b[0m\u001b[0m\n",
      "\u001b[1;32mC:\\Users\\caleb\\Anaconda3\\lib\\site-packages\\pandas\\io\\parsers.py\u001b[0m in \u001b[0;36m__init__\u001b[1;34m(self, src, **kwds)\u001b[0m\n\u001b[0;32m   1580\u001b[0m         \u001b[0mkwds\u001b[0m\u001b[1;33m[\u001b[0m\u001b[1;34m'allow_leading_cols'\u001b[0m\u001b[1;33m]\u001b[0m \u001b[1;33m=\u001b[0m \u001b[0mself\u001b[0m\u001b[1;33m.\u001b[0m\u001b[0mindex_col\u001b[0m \u001b[1;32mis\u001b[0m \u001b[1;32mnot\u001b[0m \u001b[1;32mFalse\u001b[0m\u001b[1;33m\u001b[0m\u001b[0m\n\u001b[0;32m   1581\u001b[0m \u001b[1;33m\u001b[0m\u001b[0m\n\u001b[1;32m-> 1582\u001b[1;33m         \u001b[0mself\u001b[0m\u001b[1;33m.\u001b[0m\u001b[0m_reader\u001b[0m \u001b[1;33m=\u001b[0m \u001b[0mparsers\u001b[0m\u001b[1;33m.\u001b[0m\u001b[0mTextReader\u001b[0m\u001b[1;33m(\u001b[0m\u001b[0msrc\u001b[0m\u001b[1;33m,\u001b[0m \u001b[1;33m**\u001b[0m\u001b[0mkwds\u001b[0m\u001b[1;33m)\u001b[0m\u001b[1;33m\u001b[0m\u001b[0m\n\u001b[0m\u001b[0;32m   1583\u001b[0m \u001b[1;33m\u001b[0m\u001b[0m\n\u001b[0;32m   1584\u001b[0m         \u001b[1;31m# XXX\u001b[0m\u001b[1;33m\u001b[0m\u001b[1;33m\u001b[0m\u001b[0m\n",
      "\u001b[1;32mpandas\\_libs\\parsers.pyx\u001b[0m in \u001b[0;36mpandas._libs.parsers.TextReader.__cinit__ (pandas\\_libs\\parsers.c:4209)\u001b[1;34m()\u001b[0m\n",
      "\u001b[1;32mpandas\\_libs\\parsers.pyx\u001b[0m in \u001b[0;36mpandas._libs.parsers.TextReader._setup_parser_source (pandas\\_libs\\parsers.c:8873)\u001b[1;34m()\u001b[0m\n",
      "\u001b[1;31mFileNotFoundError\u001b[0m: File b'data/sdg_data.csv' does not exist"
     ]
    }
   ],
   "source": [
    "sdg_data = pd.read_csv(\"data/sdg_data.csv\", encoding='ansi')\n"
   ]
  },
  {
   "cell_type": "code",
   "execution_count": 4,
   "metadata": {},
   "outputs": [
    {
     "data": {
      "text/html": [
       "<div>\n",
       "<style>\n",
       "    .dataframe thead tr:only-child th {\n",
       "        text-align: right;\n",
       "    }\n",
       "\n",
       "    .dataframe thead th {\n",
       "        text-align: left;\n",
       "    }\n",
       "\n",
       "    .dataframe tbody tr th {\n",
       "        vertical-align: top;\n",
       "    }\n",
       "</style>\n",
       "<table border=\"1\" class=\"dataframe\">\n",
       "  <thead>\n",
       "    <tr style=\"text-align: right;\">\n",
       "      <th></th>\n",
       "      <th>indicator_id</th>\n",
       "      <th>indicator_description</th>\n",
       "      <th>priority</th>\n",
       "      <th>topic</th>\n",
       "      <th>goal</th>\n",
       "      <th>series</th>\n",
       "      <th>country_code</th>\n",
       "      <th>country</th>\n",
       "      <th>age_group</th>\n",
       "      <th>location</th>\n",
       "      <th>sex</th>\n",
       "      <th>value_type</th>\n",
       "      <th>unit</th>\n",
       "      <th>year</th>\n",
       "      <th>value</th>\n",
       "    </tr>\n",
       "  </thead>\n",
       "  <tbody>\n",
       "    <tr>\n",
       "      <th>0</th>\n",
       "      <td>C030702</td>\n",
       "      <td>Adolescent birth rate (aged 10-14 years; aged ...</td>\n",
       "      <td>110311</td>\n",
       "      <td>girls</td>\n",
       "      <td>3</td>\n",
       "      <td>Adolescent birth rate per 1,000 adolescent wom...</td>\n",
       "      <td>ALB</td>\n",
       "      <td>Albania</td>\n",
       "      <td>15 to 19 years old</td>\n",
       "      <td>Total (national level)</td>\n",
       "      <td>Female</td>\n",
       "      <td>NaN</td>\n",
       "      <td>Percent</td>\n",
       "      <td>2001</td>\n",
       "      <td>0.02939</td>\n",
       "    </tr>\n",
       "    <tr>\n",
       "      <th>1</th>\n",
       "      <td>C030702</td>\n",
       "      <td>Adolescent birth rate (aged 10-14 years; aged ...</td>\n",
       "      <td>110311</td>\n",
       "      <td>girls</td>\n",
       "      <td>3</td>\n",
       "      <td>Adolescent birth rate per 1,000 adolescent wom...</td>\n",
       "      <td>ALB</td>\n",
       "      <td>Albania</td>\n",
       "      <td>15 to 19 years old</td>\n",
       "      <td>Total (national level)</td>\n",
       "      <td>Female</td>\n",
       "      <td>NaN</td>\n",
       "      <td>Percent</td>\n",
       "      <td>2002</td>\n",
       "      <td>0.01380</td>\n",
       "    </tr>\n",
       "    <tr>\n",
       "      <th>2</th>\n",
       "      <td>C030702</td>\n",
       "      <td>Adolescent birth rate (aged 10-14 years; aged ...</td>\n",
       "      <td>110311</td>\n",
       "      <td>girls</td>\n",
       "      <td>3</td>\n",
       "      <td>Adolescent birth rate per 1,000 adolescent wom...</td>\n",
       "      <td>ALB</td>\n",
       "      <td>Albania</td>\n",
       "      <td>15 to 19 years old</td>\n",
       "      <td>Total (national level)</td>\n",
       "      <td>Female</td>\n",
       "      <td>NaN</td>\n",
       "      <td>Percent</td>\n",
       "      <td>2003</td>\n",
       "      <td>0.01593</td>\n",
       "    </tr>\n",
       "    <tr>\n",
       "      <th>3</th>\n",
       "      <td>C030702</td>\n",
       "      <td>Adolescent birth rate (aged 10-14 years; aged ...</td>\n",
       "      <td>110311</td>\n",
       "      <td>girls</td>\n",
       "      <td>3</td>\n",
       "      <td>Adolescent birth rate per 1,000 adolescent wom...</td>\n",
       "      <td>ALB</td>\n",
       "      <td>Albania</td>\n",
       "      <td>15 to 19 years old</td>\n",
       "      <td>Total (national level)</td>\n",
       "      <td>Female</td>\n",
       "      <td>NaN</td>\n",
       "      <td>Percent</td>\n",
       "      <td>2004</td>\n",
       "      <td>0.02136</td>\n",
       "    </tr>\n",
       "    <tr>\n",
       "      <th>4</th>\n",
       "      <td>C030702</td>\n",
       "      <td>Adolescent birth rate (aged 10-14 years; aged ...</td>\n",
       "      <td>110311</td>\n",
       "      <td>girls</td>\n",
       "      <td>3</td>\n",
       "      <td>Adolescent birth rate per 1,000 adolescent wom...</td>\n",
       "      <td>ALB</td>\n",
       "      <td>Albania</td>\n",
       "      <td>15 to 19 years old</td>\n",
       "      <td>Total (national level)</td>\n",
       "      <td>Female</td>\n",
       "      <td>NaN</td>\n",
       "      <td>Percent</td>\n",
       "      <td>2005</td>\n",
       "      <td>0.02016</td>\n",
       "    </tr>\n",
       "  </tbody>\n",
       "</table>\n",
       "</div>"
      ],
      "text/plain": [
       "  indicator_id                              indicator_description  priority  \\\n",
       "0      C030702  Adolescent birth rate (aged 10-14 years; aged ...    110311   \n",
       "1      C030702  Adolescent birth rate (aged 10-14 years; aged ...    110311   \n",
       "2      C030702  Adolescent birth rate (aged 10-14 years; aged ...    110311   \n",
       "3      C030702  Adolescent birth rate (aged 10-14 years; aged ...    110311   \n",
       "4      C030702  Adolescent birth rate (aged 10-14 years; aged ...    110311   \n",
       "\n",
       "   topic  goal                                             series  \\\n",
       "0  girls     3  Adolescent birth rate per 1,000 adolescent wom...   \n",
       "1  girls     3  Adolescent birth rate per 1,000 adolescent wom...   \n",
       "2  girls     3  Adolescent birth rate per 1,000 adolescent wom...   \n",
       "3  girls     3  Adolescent birth rate per 1,000 adolescent wom...   \n",
       "4  girls     3  Adolescent birth rate per 1,000 adolescent wom...   \n",
       "\n",
       "  country_code  country           age_group                location     sex  \\\n",
       "0          ALB  Albania  15 to 19 years old  Total (national level)  Female   \n",
       "1          ALB  Albania  15 to 19 years old  Total (national level)  Female   \n",
       "2          ALB  Albania  15 to 19 years old  Total (national level)  Female   \n",
       "3          ALB  Albania  15 to 19 years old  Total (national level)  Female   \n",
       "4          ALB  Albania  15 to 19 years old  Total (national level)  Female   \n",
       "\n",
       "  value_type     unit  year    value  \n",
       "0        NaN  Percent  2001  0.02939  \n",
       "1        NaN  Percent  2002  0.01380  \n",
       "2        NaN  Percent  2003  0.01593  \n",
       "3        NaN  Percent  2004  0.02136  \n",
       "4        NaN  Percent  2005  0.02016  "
      ]
     },
     "execution_count": 4,
     "metadata": {},
     "output_type": "execute_result"
    }
   ],
   "source": [
    "sdg_data.head()"
   ]
  },
  {
   "cell_type": "code",
   "execution_count": null,
   "metadata": {
    "collapsed": true
   },
   "outputs": [],
   "source": []
  },
  {
   "cell_type": "code",
   "execution_count": null,
   "metadata": {
    "collapsed": true
   },
   "outputs": [],
   "source": []
  },
  {
   "cell_type": "code",
   "execution_count": null,
   "metadata": {
    "collapsed": true
   },
   "outputs": [],
   "source": []
  },
  {
   "cell_type": "code",
   "execution_count": null,
   "metadata": {
    "collapsed": true
   },
   "outputs": [],
   "source": []
  },
  {
   "cell_type": "code",
   "execution_count": null,
   "metadata": {
    "collapsed": true
   },
   "outputs": [],
   "source": []
  },
  {
   "cell_type": "code",
   "execution_count": null,
   "metadata": {
    "collapsed": true
   },
   "outputs": [],
   "source": []
  },
  {
   "cell_type": "code",
   "execution_count": null,
   "metadata": {
    "collapsed": true
   },
   "outputs": [],
   "source": []
  },
  {
   "cell_type": "code",
   "execution_count": null,
   "metadata": {
    "collapsed": true
   },
   "outputs": [],
   "source": []
  },
  {
   "cell_type": "code",
   "execution_count": null,
   "metadata": {
    "collapsed": true
   },
   "outputs": [],
   "source": []
  },
  {
   "cell_type": "code",
   "execution_count": null,
   "metadata": {
    "collapsed": true
   },
   "outputs": [],
   "source": []
  },
  {
   "cell_type": "code",
   "execution_count": null,
   "metadata": {
    "collapsed": true
   },
   "outputs": [],
   "source": []
  },
  {
   "cell_type": "code",
   "execution_count": null,
   "metadata": {
    "collapsed": true
   },
   "outputs": [],
   "source": []
  },
  {
   "cell_type": "code",
   "execution_count": null,
   "metadata": {
    "collapsed": true
   },
   "outputs": [],
   "source": []
  },
  {
   "cell_type": "code",
   "execution_count": null,
   "metadata": {
    "collapsed": true
   },
   "outputs": [],
   "source": []
  },
  {
   "cell_type": "code",
   "execution_count": null,
   "metadata": {
    "collapsed": true
   },
   "outputs": [],
   "source": []
  },
  {
   "cell_type": "code",
   "execution_count": null,
   "metadata": {
    "collapsed": true
   },
   "outputs": [],
   "source": []
  },
  {
   "cell_type": "code",
   "execution_count": null,
   "metadata": {
    "collapsed": true
   },
   "outputs": [],
   "source": []
  },
  {
   "cell_type": "code",
   "execution_count": null,
   "metadata": {
    "collapsed": true
   },
   "outputs": [],
   "source": []
  },
  {
   "cell_type": "code",
   "execution_count": null,
   "metadata": {
    "collapsed": true
   },
   "outputs": [],
   "source": []
  },
  {
   "cell_type": "code",
   "execution_count": null,
   "metadata": {
    "collapsed": true
   },
   "outputs": [],
   "source": []
  },
  {
   "cell_type": "code",
   "execution_count": null,
   "metadata": {
    "collapsed": true
   },
   "outputs": [],
   "source": []
  },
  {
   "cell_type": "code",
   "execution_count": null,
   "metadata": {
    "collapsed": true
   },
   "outputs": [],
   "source": []
  },
  {
   "cell_type": "code",
   "execution_count": null,
   "metadata": {
    "collapsed": true
   },
   "outputs": [],
   "source": []
  },
  {
   "cell_type": "code",
   "execution_count": null,
   "metadata": {
    "collapsed": true
   },
   "outputs": [],
   "source": []
  },
  {
   "cell_type": "code",
   "execution_count": null,
   "metadata": {
    "collapsed": true
   },
   "outputs": [],
   "source": []
  },
  {
   "cell_type": "code",
   "execution_count": null,
   "metadata": {
    "collapsed": true
   },
   "outputs": [],
   "source": []
  },
  {
   "cell_type": "code",
   "execution_count": null,
   "metadata": {
    "collapsed": true
   },
   "outputs": [],
   "source": []
  },
  {
   "cell_type": "code",
   "execution_count": null,
   "metadata": {
    "collapsed": true
   },
   "outputs": [],
   "source": []
  },
  {
   "cell_type": "code",
   "execution_count": null,
   "metadata": {
    "collapsed": true
   },
   "outputs": [],
   "source": []
  },
  {
   "cell_type": "code",
   "execution_count": null,
   "metadata": {
    "collapsed": true
   },
   "outputs": [],
   "source": []
  },
  {
   "cell_type": "code",
   "execution_count": null,
   "metadata": {
    "collapsed": true
   },
   "outputs": [],
   "source": []
  }
 ],
 "metadata": {
  "kernelspec": {
   "display_name": "Python 3",
   "language": "python",
   "name": "python3"
  },
  "language_info": {
   "codemirror_mode": {
    "name": "ipython",
    "version": 3
   },
   "file_extension": ".py",
   "mimetype": "text/x-python",
   "name": "python",
   "nbconvert_exporter": "python",
   "pygments_lexer": "ipython3",
   "version": "3.6.1"
  }
 },
 "nbformat": 4,
 "nbformat_minor": 2
}

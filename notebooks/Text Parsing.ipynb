{
 "cells": [
  {
   "cell_type": "markdown",
   "metadata": {},
   "source": [
    "# Text Parsing"
   ]
  },
  {
   "cell_type": "markdown",
   "metadata": {},
   "source": [
    "Here I will be writing the code to construct the fact strings given the code that Alistair has written."
   ]
  },
  {
   "cell_type": "code",
   "execution_count": 51,
   "metadata": {
    "collapsed": true
   },
   "outputs": [],
   "source": [
    "import numpy as np\n",
    "import pandas as pd\n",
    "\n",
    "import matplotlib\n",
    "import matplotlib.pyplot as plt\n",
    "% matplotlib inline\n",
    "\n",
    "import seaborn as sns\n",
    "sns.set()"
   ]
  },
  {
   "cell_type": "code",
   "execution_count": 387,
   "metadata": {
    "collapsed": true
   },
   "outputs": [],
   "source": [
    "sdg_data = pd.read_csv(\"data/sdg_data.csv\", encoding='ansi', low_memory=False)"
   ]
  },
  {
   "cell_type": "code",
   "execution_count": 284,
   "metadata": {
    "collapsed": true
   },
   "outputs": [],
   "source": [
    "selected_indicators = pd.read_csv(\"data/selected_indicators.csv\", encoding = \"ansi\")"
   ]
  },
  {
   "cell_type": "code",
   "execution_count": 285,
   "metadata": {},
   "outputs": [
    {
     "data": {
      "text/html": [
       "<div>\n",
       "<style>\n",
       "    .dataframe thead tr:only-child th {\n",
       "        text-align: right;\n",
       "    }\n",
       "\n",
       "    .dataframe thead th {\n",
       "        text-align: left;\n",
       "    }\n",
       "\n",
       "    .dataframe tbody tr th {\n",
       "        vertical-align: top;\n",
       "    }\n",
       "</style>\n",
       "<table border=\"1\" class=\"dataframe\">\n",
       "  <thead>\n",
       "    <tr style=\"text-align: right;\">\n",
       "      <th></th>\n",
       "      <th>goal</th>\n",
       "      <th>priority</th>\n",
       "      <th>indicator_id</th>\n",
       "      <th>indicator_description</th>\n",
       "      <th>topic</th>\n",
       "      <th>series</th>\n",
       "      <th>country_code</th>\n",
       "      <th>location</th>\n",
       "      <th>age_group</th>\n",
       "      <th>sex</th>\n",
       "      <th>value_type</th>\n",
       "      <th>unit</th>\n",
       "      <th>year</th>\n",
       "      <th>value</th>\n",
       "      <th>country</th>\n",
       "    </tr>\n",
       "  </thead>\n",
       "  <tbody>\n",
       "    <tr>\n",
       "      <th>0</th>\n",
       "      <td>8</td>\n",
       "      <td>110001</td>\n",
       "      <td>C080601</td>\n",
       "      <td>Proportion of youth (aged 15-24 years) not in ...</td>\n",
       "      <td>people</td>\n",
       "      <td>Proportion of youth not in education, employme...</td>\n",
       "      <td>ALB</td>\n",
       "      <td>Total (national level)</td>\n",
       "      <td>15 to 24 years old</td>\n",
       "      <td>Both sexes or no breakdown by sex</td>\n",
       "      <td>NaN</td>\n",
       "      <td>Percent</td>\n",
       "      <td>2011</td>\n",
       "      <td>0.3001</td>\n",
       "      <td>Albania</td>\n",
       "    </tr>\n",
       "    <tr>\n",
       "      <th>1</th>\n",
       "      <td>8</td>\n",
       "      <td>110001</td>\n",
       "      <td>C080601</td>\n",
       "      <td>Proportion of youth (aged 15-24 years) not in ...</td>\n",
       "      <td>people</td>\n",
       "      <td>Proportion of youth not in education, employme...</td>\n",
       "      <td>ALB</td>\n",
       "      <td>Total (national level)</td>\n",
       "      <td>15 to 24 years old</td>\n",
       "      <td>Female</td>\n",
       "      <td>NaN</td>\n",
       "      <td>Percent</td>\n",
       "      <td>2011</td>\n",
       "      <td>0.3252</td>\n",
       "      <td>Albania</td>\n",
       "    </tr>\n",
       "    <tr>\n",
       "      <th>2</th>\n",
       "      <td>8</td>\n",
       "      <td>110001</td>\n",
       "      <td>C080601</td>\n",
       "      <td>Proportion of youth (aged 15-24 years) not in ...</td>\n",
       "      <td>people</td>\n",
       "      <td>Proportion of youth not in education, employme...</td>\n",
       "      <td>ALB</td>\n",
       "      <td>Total (national level)</td>\n",
       "      <td>15 to 24 years old</td>\n",
       "      <td>Male</td>\n",
       "      <td>NaN</td>\n",
       "      <td>Percent</td>\n",
       "      <td>2011</td>\n",
       "      <td>0.2765</td>\n",
       "      <td>Albania</td>\n",
       "    </tr>\n",
       "    <tr>\n",
       "      <th>3</th>\n",
       "      <td>8</td>\n",
       "      <td>110001</td>\n",
       "      <td>C080601</td>\n",
       "      <td>Proportion of youth (aged 15-24 years) not in ...</td>\n",
       "      <td>people</td>\n",
       "      <td>Proportion of youth not in education, employme...</td>\n",
       "      <td>ALB</td>\n",
       "      <td>Total (national level)</td>\n",
       "      <td>15 to 24 years old</td>\n",
       "      <td>Both sexes or no breakdown by sex</td>\n",
       "      <td>NaN</td>\n",
       "      <td>Percent</td>\n",
       "      <td>2012</td>\n",
       "      <td>0.2680</td>\n",
       "      <td>Albania</td>\n",
       "    </tr>\n",
       "    <tr>\n",
       "      <th>4</th>\n",
       "      <td>8</td>\n",
       "      <td>110001</td>\n",
       "      <td>C080601</td>\n",
       "      <td>Proportion of youth (aged 15-24 years) not in ...</td>\n",
       "      <td>people</td>\n",
       "      <td>Proportion of youth not in education, employme...</td>\n",
       "      <td>ALB</td>\n",
       "      <td>Total (national level)</td>\n",
       "      <td>15 to 24 years old</td>\n",
       "      <td>Female</td>\n",
       "      <td>NaN</td>\n",
       "      <td>Percent</td>\n",
       "      <td>2012</td>\n",
       "      <td>0.2861</td>\n",
       "      <td>Albania</td>\n",
       "    </tr>\n",
       "  </tbody>\n",
       "</table>\n",
       "</div>"
      ],
      "text/plain": [
       "   goal  priority indicator_id  \\\n",
       "0     8    110001      C080601   \n",
       "1     8    110001      C080601   \n",
       "2     8    110001      C080601   \n",
       "3     8    110001      C080601   \n",
       "4     8    110001      C080601   \n",
       "\n",
       "                               indicator_description   topic  \\\n",
       "0  Proportion of youth (aged 15-24 years) not in ...  people   \n",
       "1  Proportion of youth (aged 15-24 years) not in ...  people   \n",
       "2  Proportion of youth (aged 15-24 years) not in ...  people   \n",
       "3  Proportion of youth (aged 15-24 years) not in ...  people   \n",
       "4  Proportion of youth (aged 15-24 years) not in ...  people   \n",
       "\n",
       "                                              series country_code  \\\n",
       "0  Proportion of youth not in education, employme...          ALB   \n",
       "1  Proportion of youth not in education, employme...          ALB   \n",
       "2  Proportion of youth not in education, employme...          ALB   \n",
       "3  Proportion of youth not in education, employme...          ALB   \n",
       "4  Proportion of youth not in education, employme...          ALB   \n",
       "\n",
       "                 location           age_group  \\\n",
       "0  Total (national level)  15 to 24 years old   \n",
       "1  Total (national level)  15 to 24 years old   \n",
       "2  Total (national level)  15 to 24 years old   \n",
       "3  Total (national level)  15 to 24 years old   \n",
       "4  Total (national level)  15 to 24 years old   \n",
       "\n",
       "                                 sex value_type     unit  year   value  \\\n",
       "0  Both sexes or no breakdown by sex        NaN  Percent  2011  0.3001   \n",
       "1                             Female        NaN  Percent  2011  0.3252   \n",
       "2                               Male        NaN  Percent  2011  0.2765   \n",
       "3  Both sexes or no breakdown by sex        NaN  Percent  2012  0.2680   \n",
       "4                             Female        NaN  Percent  2012  0.2861   \n",
       "\n",
       "   country  \n",
       "0  Albania  \n",
       "1  Albania  \n",
       "2  Albania  \n",
       "3  Albania  \n",
       "4  Albania  "
      ]
     },
     "execution_count": 285,
     "metadata": {},
     "output_type": "execute_result"
    }
   ],
   "source": [
    "sdg_data.head()"
   ]
  },
  {
   "cell_type": "code",
   "execution_count": 286,
   "metadata": {},
   "outputs": [
    {
     "data": {
      "text/html": [
       "<div>\n",
       "<style>\n",
       "    .dataframe thead tr:only-child th {\n",
       "        text-align: right;\n",
       "    }\n",
       "\n",
       "    .dataframe thead th {\n",
       "        text-align: left;\n",
       "    }\n",
       "\n",
       "    .dataframe tbody tr th {\n",
       "        vertical-align: top;\n",
       "    }\n",
       "</style>\n",
       "<table border=\"1\" class=\"dataframe\">\n",
       "  <thead>\n",
       "    <tr style=\"text-align: right;\">\n",
       "      <th></th>\n",
       "      <th>goal</th>\n",
       "      <th>priority</th>\n",
       "      <th>indicator_id</th>\n",
       "      <th>topic</th>\n",
       "      <th>series</th>\n",
       "      <th>location</th>\n",
       "      <th>age_group</th>\n",
       "      <th>sex</th>\n",
       "      <th>value_type</th>\n",
       "      <th>unit</th>\n",
       "      <th>indicator_text</th>\n",
       "      <th>value_judgement</th>\n",
       "    </tr>\n",
       "  </thead>\n",
       "  <tbody>\n",
       "    <tr>\n",
       "      <th>0</th>\n",
       "      <td>8</td>\n",
       "      <td>110001</td>\n",
       "      <td>C080601</td>\n",
       "      <td>people</td>\n",
       "      <td>Proportion of youth not in education, employme...</td>\n",
       "      <td>Total (national level)</td>\n",
       "      <td>15 to 24 years old</td>\n",
       "      <td>Both sexes or no breakdown by sex</td>\n",
       "      <td>NaN</td>\n",
       "      <td>Percent</td>\n",
       "      <td>of its people aged 15 to 24 were not in school...</td>\n",
       "      <td>bad</td>\n",
       "    </tr>\n",
       "    <tr>\n",
       "      <th>1</th>\n",
       "      <td>8</td>\n",
       "      <td>110001</td>\n",
       "      <td>C080601</td>\n",
       "      <td>working</td>\n",
       "      <td>Proportion of youth not in education, employme...</td>\n",
       "      <td>Total (national level)</td>\n",
       "      <td>15 to 24 years old</td>\n",
       "      <td>Both sexes or no breakdown by sex</td>\n",
       "      <td>NaN</td>\n",
       "      <td>Percent</td>\n",
       "      <td>of its people aged 15 to 24 were not in school...</td>\n",
       "      <td>bad</td>\n",
       "    </tr>\n",
       "    <tr>\n",
       "      <th>2</th>\n",
       "      <td>3</td>\n",
       "      <td>110311</td>\n",
       "      <td>C030702</td>\n",
       "      <td>girls</td>\n",
       "      <td>Adolescent birth rate per 1,000 adolescent wom...</td>\n",
       "      <td>Total (national level)</td>\n",
       "      <td>15 to 19 years old</td>\n",
       "      <td>Female</td>\n",
       "      <td>NaN</td>\n",
       "      <td>Percent</td>\n",
       "      <td>of its girls aged 15 to 19 became pregnant and...</td>\n",
       "      <td>good</td>\n",
       "    </tr>\n",
       "    <tr>\n",
       "      <th>3</th>\n",
       "      <td>3</td>\n",
       "      <td>110311</td>\n",
       "      <td>C030702</td>\n",
       "      <td>health</td>\n",
       "      <td>Adolescent birth rate per 1,000 adolescent wom...</td>\n",
       "      <td>Total (national level)</td>\n",
       "      <td>15 to 19 years old</td>\n",
       "      <td>Female</td>\n",
       "      <td>NaN</td>\n",
       "      <td>Percent</td>\n",
       "      <td>of its girls aged 15 to 19 became pregnant and...</td>\n",
       "      <td>good</td>\n",
       "    </tr>\n",
       "    <tr>\n",
       "      <th>4</th>\n",
       "      <td>4</td>\n",
       "      <td>110411</td>\n",
       "      <td>C040101</td>\n",
       "      <td>school</td>\n",
       "      <td>Proportion of children at the end of primary a...</td>\n",
       "      <td>Total (national level)</td>\n",
       "      <td>All age ranges or no breakdown by age</td>\n",
       "      <td>Both sexes or no breakdown by sex</td>\n",
       "      <td>NaN</td>\n",
       "      <td>Percent</td>\n",
       "      <td>of its children have good maths skills by the ...</td>\n",
       "      <td>good</td>\n",
       "    </tr>\n",
       "  </tbody>\n",
       "</table>\n",
       "</div>"
      ],
      "text/plain": [
       "   goal  priority indicator_id    topic  \\\n",
       "0     8    110001      C080601   people   \n",
       "1     8    110001      C080601  working   \n",
       "2     3    110311      C030702    girls   \n",
       "3     3    110311      C030702   health   \n",
       "4     4    110411      C040101   school   \n",
       "\n",
       "                                              series                location  \\\n",
       "0  Proportion of youth not in education, employme...  Total (national level)   \n",
       "1  Proportion of youth not in education, employme...  Total (national level)   \n",
       "2  Adolescent birth rate per 1,000 adolescent wom...  Total (national level)   \n",
       "3  Adolescent birth rate per 1,000 adolescent wom...  Total (national level)   \n",
       "4  Proportion of children at the end of primary a...  Total (national level)   \n",
       "\n",
       "                               age_group                                sex  \\\n",
       "0                     15 to 24 years old  Both sexes or no breakdown by sex   \n",
       "1                     15 to 24 years old  Both sexes or no breakdown by sex   \n",
       "2                     15 to 19 years old                             Female   \n",
       "3                     15 to 19 years old                             Female   \n",
       "4  All age ranges or no breakdown by age  Both sexes or no breakdown by sex   \n",
       "\n",
       "   value_type     unit                                     indicator_text  \\\n",
       "0         NaN  Percent  of its people aged 15 to 24 were not in school...   \n",
       "1         NaN  Percent  of its people aged 15 to 24 were not in school...   \n",
       "2         NaN  Percent  of its girls aged 15 to 19 became pregnant and...   \n",
       "3         NaN  Percent  of its girls aged 15 to 19 became pregnant and...   \n",
       "4         NaN  Percent  of its children have good maths skills by the ...   \n",
       "\n",
       "  value_judgement  \n",
       "0             bad  \n",
       "1             bad  \n",
       "2            good  \n",
       "3            good  \n",
       "4            good  "
      ]
     },
     "execution_count": 286,
     "metadata": {},
     "output_type": "execute_result"
    }
   ],
   "source": [
    "selected_indicators.head()"
   ]
  },
  {
   "cell_type": "code",
   "execution_count": 300,
   "metadata": {
    "collapsed": true
   },
   "outputs": [],
   "source": [
    "country_data = pd.read_csv(\"data/country_metadata.csv\", encoding=\"ansi\")"
   ]
  },
  {
   "cell_type": "code",
   "execution_count": 301,
   "metadata": {},
   "outputs": [
    {
     "data": {
      "text/html": [
       "<div>\n",
       "<style>\n",
       "    .dataframe thead tr:only-child th {\n",
       "        text-align: right;\n",
       "    }\n",
       "\n",
       "    .dataframe thead th {\n",
       "        text-align: left;\n",
       "    }\n",
       "\n",
       "    .dataframe tbody tr th {\n",
       "        vertical-align: top;\n",
       "    }\n",
       "</style>\n",
       "<table border=\"1\" class=\"dataframe\">\n",
       "  <thead>\n",
       "    <tr style=\"text-align: right;\">\n",
       "      <th></th>\n",
       "      <th>country_code</th>\n",
       "      <th>country</th>\n",
       "      <th>nickname</th>\n",
       "      <th>region_member_of</th>\n",
       "      <th>population</th>\n",
       "      <th>ethnicity</th>\n",
       "      <th>white</th>\n",
       "      <th>yellow</th>\n",
       "      <th>brown</th>\n",
       "      <th>black</th>\n",
       "      <th>male_name</th>\n",
       "      <th>female_name</th>\n",
       "    </tr>\n",
       "  </thead>\n",
       "  <tbody>\n",
       "    <tr>\n",
       "      <th>0</th>\n",
       "      <td>AFG</td>\n",
       "      <td>Afghanistan</td>\n",
       "      <td>Afghanistan</td>\n",
       "      <td>Southern Asia</td>\n",
       "      <td>35000000</td>\n",
       "      <td>Afghanistan</td>\n",
       "      <td>1</td>\n",
       "      <td>1</td>\n",
       "      <td>97</td>\n",
       "      <td>1</td>\n",
       "      <td>Mohamed</td>\n",
       "      <td>Maryam</td>\n",
       "    </tr>\n",
       "    <tr>\n",
       "      <th>1</th>\n",
       "      <td>ALB</td>\n",
       "      <td>Albania</td>\n",
       "      <td>Albania</td>\n",
       "      <td>Southern Europe</td>\n",
       "      <td>2000000</td>\n",
       "      <td>Albania</td>\n",
       "      <td>97</td>\n",
       "      <td>1</td>\n",
       "      <td>1</td>\n",
       "      <td>1</td>\n",
       "      <td>Noel</td>\n",
       "      <td>Amelia</td>\n",
       "    </tr>\n",
       "    <tr>\n",
       "      <th>2</th>\n",
       "      <td>DZA</td>\n",
       "      <td>Algeria</td>\n",
       "      <td>Algeria</td>\n",
       "      <td>Northern Africa</td>\n",
       "      <td>41000000</td>\n",
       "      <td>Algeria</td>\n",
       "      <td>1</td>\n",
       "      <td>1</td>\n",
       "      <td>97</td>\n",
       "      <td>1</td>\n",
       "      <td>Mohamed</td>\n",
       "      <td>Fatima</td>\n",
       "    </tr>\n",
       "    <tr>\n",
       "      <th>3</th>\n",
       "      <td>ASM</td>\n",
       "      <td>American Samoa</td>\n",
       "      <td>American Samoa</td>\n",
       "      <td>Polynesia</td>\n",
       "      <td>60000</td>\n",
       "      <td>Samoa</td>\n",
       "      <td>1</td>\n",
       "      <td>1</td>\n",
       "      <td>97</td>\n",
       "      <td>1</td>\n",
       "      <td>Noah</td>\n",
       "      <td>Emma</td>\n",
       "    </tr>\n",
       "    <tr>\n",
       "      <th>4</th>\n",
       "      <td>AND</td>\n",
       "      <td>Andorra</td>\n",
       "      <td>Andorra</td>\n",
       "      <td>Southern Europe</td>\n",
       "      <td>80000</td>\n",
       "      <td>Andorra</td>\n",
       "      <td>94</td>\n",
       "      <td>1</td>\n",
       "      <td>4</td>\n",
       "      <td>1</td>\n",
       "      <td>Marc</td>\n",
       "      <td>Laia</td>\n",
       "    </tr>\n",
       "  </tbody>\n",
       "</table>\n",
       "</div>"
      ],
      "text/plain": [
       "  country_code         country        nickname region_member_of  population  \\\n",
       "0          AFG     Afghanistan     Afghanistan    Southern Asia    35000000   \n",
       "1          ALB         Albania         Albania  Southern Europe     2000000   \n",
       "2          DZA         Algeria         Algeria  Northern Africa    41000000   \n",
       "3          ASM  American Samoa  American Samoa        Polynesia       60000   \n",
       "4          AND         Andorra         Andorra  Southern Europe       80000   \n",
       "\n",
       "     ethnicity  white  yellow  brown  black male_name female_name  \n",
       "0  Afghanistan      1       1     97      1   Mohamed      Maryam  \n",
       "1      Albania     97       1      1      1      Noel      Amelia  \n",
       "2      Algeria      1       1     97      1   Mohamed      Fatima  \n",
       "3        Samoa      1       1     97      1      Noah        Emma  \n",
       "4      Andorra     94       1      4      1      Marc        Laia  "
      ]
     },
     "execution_count": 301,
     "metadata": {},
     "output_type": "execute_result"
    }
   ],
   "source": [
    "country_data.head()"
   ]
  },
  {
   "cell_type": "code",
   "execution_count": 302,
   "metadata": {},
   "outputs": [
    {
     "data": {
      "text/plain": [
       "'ABW, AFG, AGO, AIA, ALB, AND, ARE, ARG, ARM, ASM, ATG, AUS, AUT, AZE, BDI, BEL, BEN, BFA, BGD, BGR, BHM, BHR, BIH, BLR, BLZ, BMU, BOL, BRA, BRB, BRN, BTN, BWA, CAF, CAN, CHE, CHL, CHN, CIV, CMR, COD, COG, COK, COL, COM, CPV, CRI, CUB, CUW, CYM, CYP, CZE, DEU, DJI, DMA, DNK, DOM, DZA, ECU, EGY, ERI, ESP, EST, ETH, FIN, FJI, FLK, FRA, FRO, FSM, GAB, GBR, GEO, GHA, GIB, GIN, GMB, GNB, GNQ, GRC, GRD, GRL, GTM, GUM, GUY, HKG, HND, HRV, HTI, HUN, IDN, IMN, IND, IRL, IRN, IRQ, ISL, ISR, ITA, JAM, JOR, JPN, KAZ, KEN, KGZ, KHM, KIR, KNA, KOR, KWT, LAO, LBN, LBR, LBY, LCA, LIE, LKA, LSO, LTU, LUX, LVA, MAC, MAF, MAR, MCO, MDA, MDG, MDV, MEX, MHL, MKD, MLI, MLT, MMR, MNE, MNG, MNP, MOZ, MRT, MUS, MWI, MYS, NAM, NCL, NER, NGA, NIC, NIU, NLD, NOR, NPL, NZL, OMN, PAK, PAN, PER, PHL, PLW, PNG, POL, PRI, PRK, PRT, PRY, PYF, QAT, ROU, RUS, RWA, SAU, SDN, SEN, SGP, SLB, SLE, SLV, SMR, SOM, SPM, SRB, SSD, STP, SUR, SVK, SVN, SWE, SWZ, SXM, SYC, SYR, TCD, TGO, THA, TJK, TKM, TLS, TON, TTO, TUN, TUR, TUV, TZA, UGA, UKR, URY, USA, UZB, VCT, VEN, VGB, VNM, VUT, WSM, YEM, ZAF, ZMB, ZWE'"
      ]
     },
     "execution_count": 302,
     "metadata": {},
     "output_type": "execute_result"
    }
   ],
   "source": [
    "', '.join(sorted(country_data.country_code.unique()))"
   ]
  },
  {
   "cell_type": "code",
   "execution_count": 303,
   "metadata": {
    "collapsed": true
   },
   "outputs": [],
   "source": [
    "import random"
   ]
  },
  {
   "cell_type": "code",
   "execution_count": 339,
   "metadata": {},
   "outputs": [
    {
     "name": "stdout",
     "output_type": "stream",
     "text": [
      "Cyprus Ghana power Fatoumata 28000000\n"
     ]
    }
   ],
   "source": [
    "user_name = \"Sam\"\n",
    "user_sex = \"female\"\n",
    "user_country = country_data.country.sample().iloc[0]\n",
    "user_country_nickname = country_data.loc[\n",
    "                            country_data.country == user_country,\n",
    "                            'nickname'].iloc[0]\n",
    "target_country = country_data.country.sample().iloc[0]\n",
    "target_country_nickname = country_data.loc[\n",
    "                            country_data.country == target_country,\n",
    "                            'nickname'].iloc[0]\n",
    "target_topic = random.choice(sdg_data.topic.unique())\n",
    "country_child_name = country_data.loc[country_data.country == target_country,\n",
    "                                      user_sex + \"_name\"].iloc[0]\n",
    "target_population = country_data.loc[country_data.country == target_country, \n",
    "                                     'population'].iloc[0]\n",
    "\n",
    "print(user_country, target_country, target_topic, \n",
    "      country_child_name, target_population)"
   ]
  },
  {
   "cell_type": "code",
   "execution_count": 340,
   "metadata": {
    "collapsed": true
   },
   "outputs": [],
   "source": [
    "indicator_selection = selected_indicators[selected_indicators.topic == target_topic]\n",
    "indicator_selection = indicator_selection[indicator_selection.priority == indicator_selection.priority.min()]"
   ]
  },
  {
   "cell_type": "code",
   "execution_count": 341,
   "metadata": {
    "scrolled": true
   },
   "outputs": [
    {
     "data": {
      "text/html": [
       "<div>\n",
       "<style>\n",
       "    .dataframe thead tr:only-child th {\n",
       "        text-align: right;\n",
       "    }\n",
       "\n",
       "    .dataframe thead th {\n",
       "        text-align: left;\n",
       "    }\n",
       "\n",
       "    .dataframe tbody tr th {\n",
       "        vertical-align: top;\n",
       "    }\n",
       "</style>\n",
       "<table border=\"1\" class=\"dataframe\">\n",
       "  <thead>\n",
       "    <tr style=\"text-align: right;\">\n",
       "      <th></th>\n",
       "      <th>goal</th>\n",
       "      <th>priority</th>\n",
       "      <th>indicator_id</th>\n",
       "      <th>topic</th>\n",
       "      <th>series</th>\n",
       "      <th>location</th>\n",
       "      <th>age_group</th>\n",
       "      <th>sex</th>\n",
       "      <th>value_type</th>\n",
       "      <th>unit</th>\n",
       "      <th>indicator_text</th>\n",
       "      <th>value_judgement</th>\n",
       "    </tr>\n",
       "  </thead>\n",
       "  <tbody>\n",
       "    <tr>\n",
       "      <th>26</th>\n",
       "      <td>7</td>\n",
       "      <td>210721</td>\n",
       "      <td>C070101</td>\n",
       "      <td>power</td>\n",
       "      <td>Proportion of population with access to electr...</td>\n",
       "      <td>Total (national level)</td>\n",
       "      <td>All age ranges or no breakdown by age</td>\n",
       "      <td>Both sexes or no breakdown by sex</td>\n",
       "      <td>NaN</td>\n",
       "      <td>Percent</td>\n",
       "      <td>of its people have access to electric power?</td>\n",
       "      <td>good</td>\n",
       "    </tr>\n",
       "  </tbody>\n",
       "</table>\n",
       "</div>"
      ],
      "text/plain": [
       "    goal  priority indicator_id  topic  \\\n",
       "26     7    210721      C070101  power   \n",
       "\n",
       "                                               series                location  \\\n",
       "26  Proportion of population with access to electr...  Total (national level)   \n",
       "\n",
       "                                age_group                                sex  \\\n",
       "26  All age ranges or no breakdown by age  Both sexes or no breakdown by sex   \n",
       "\n",
       "    value_type     unit                                indicator_text  \\\n",
       "26         NaN  Percent  of its people have access to electric power?   \n",
       "\n",
       "   value_judgement  \n",
       "26            good  "
      ]
     },
     "execution_count": 341,
     "metadata": {},
     "output_type": "execute_result"
    }
   ],
   "source": [
    "indicator_selection"
   ]
  },
  {
   "cell_type": "code",
   "execution_count": 342,
   "metadata": {
    "collapsed": true
   },
   "outputs": [],
   "source": [
    "sdg_selection = (sdg_data[\n",
    "    np.logical_and(\n",
    "        sdg_data.country == target_country,\n",
    "        sdg_data.topic == target_topic)])"
   ]
  },
  {
   "cell_type": "code",
   "execution_count": 343,
   "metadata": {
    "collapsed": true,
    "scrolled": false
   },
   "outputs": [],
   "source": [
    "sdg_selection = sdg_selection.merge(indicator_selection, \n",
    "    on = ['goal', 'priority', 'indicator_id', 'topic', 'series', 'location', \n",
    "          'age_group', 'unit', 'sex', 'value_type'],\n",
    "    how = 'inner')"
   ]
  },
  {
   "cell_type": "code",
   "execution_count": 344,
   "metadata": {
    "scrolled": false
   },
   "outputs": [
    {
     "data": {
      "text/html": [
       "<div>\n",
       "<style>\n",
       "    .dataframe thead tr:only-child th {\n",
       "        text-align: right;\n",
       "    }\n",
       "\n",
       "    .dataframe thead th {\n",
       "        text-align: left;\n",
       "    }\n",
       "\n",
       "    .dataframe tbody tr th {\n",
       "        vertical-align: top;\n",
       "    }\n",
       "</style>\n",
       "<table border=\"1\" class=\"dataframe\">\n",
       "  <thead>\n",
       "    <tr style=\"text-align: right;\">\n",
       "      <th></th>\n",
       "      <th>goal</th>\n",
       "      <th>priority</th>\n",
       "      <th>indicator_id</th>\n",
       "      <th>indicator_description</th>\n",
       "      <th>topic</th>\n",
       "      <th>series</th>\n",
       "      <th>country_code</th>\n",
       "      <th>location</th>\n",
       "      <th>age_group</th>\n",
       "      <th>sex</th>\n",
       "      <th>value_type</th>\n",
       "      <th>unit</th>\n",
       "      <th>year</th>\n",
       "      <th>value</th>\n",
       "      <th>country</th>\n",
       "      <th>indicator_text</th>\n",
       "      <th>value_judgement</th>\n",
       "    </tr>\n",
       "  </thead>\n",
       "  <tbody>\n",
       "    <tr>\n",
       "      <th>0</th>\n",
       "      <td>7</td>\n",
       "      <td>210721</td>\n",
       "      <td>C070101</td>\n",
       "      <td>Proportion of population with access to electr...</td>\n",
       "      <td>power</td>\n",
       "      <td>Proportion of population with access to electr...</td>\n",
       "      <td>GHA</td>\n",
       "      <td>Total (national level)</td>\n",
       "      <td>All age ranges or no breakdown by age</td>\n",
       "      <td>Both sexes or no breakdown by sex</td>\n",
       "      <td>NaN</td>\n",
       "      <td>Percent</td>\n",
       "      <td>2000</td>\n",
       "      <td>0.4481</td>\n",
       "      <td>Ghana</td>\n",
       "      <td>of its people have access to electric power?</td>\n",
       "      <td>good</td>\n",
       "    </tr>\n",
       "    <tr>\n",
       "      <th>1</th>\n",
       "      <td>7</td>\n",
       "      <td>210721</td>\n",
       "      <td>C070101</td>\n",
       "      <td>Proportion of population with access to electr...</td>\n",
       "      <td>power</td>\n",
       "      <td>Proportion of population with access to electr...</td>\n",
       "      <td>GHA</td>\n",
       "      <td>Total (national level)</td>\n",
       "      <td>All age ranges or no breakdown by age</td>\n",
       "      <td>Both sexes or no breakdown by sex</td>\n",
       "      <td>NaN</td>\n",
       "      <td>Percent</td>\n",
       "      <td>2001</td>\n",
       "      <td>0.4683</td>\n",
       "      <td>Ghana</td>\n",
       "      <td>of its people have access to electric power?</td>\n",
       "      <td>good</td>\n",
       "    </tr>\n",
       "    <tr>\n",
       "      <th>2</th>\n",
       "      <td>7</td>\n",
       "      <td>210721</td>\n",
       "      <td>C070101</td>\n",
       "      <td>Proportion of population with access to electr...</td>\n",
       "      <td>power</td>\n",
       "      <td>Proportion of population with access to electr...</td>\n",
       "      <td>GHA</td>\n",
       "      <td>Total (national level)</td>\n",
       "      <td>All age ranges or no breakdown by age</td>\n",
       "      <td>Both sexes or no breakdown by sex</td>\n",
       "      <td>NaN</td>\n",
       "      <td>Percent</td>\n",
       "      <td>2002</td>\n",
       "      <td>0.4885</td>\n",
       "      <td>Ghana</td>\n",
       "      <td>of its people have access to electric power?</td>\n",
       "      <td>good</td>\n",
       "    </tr>\n",
       "    <tr>\n",
       "      <th>3</th>\n",
       "      <td>7</td>\n",
       "      <td>210721</td>\n",
       "      <td>C070101</td>\n",
       "      <td>Proportion of population with access to electr...</td>\n",
       "      <td>power</td>\n",
       "      <td>Proportion of population with access to electr...</td>\n",
       "      <td>GHA</td>\n",
       "      <td>Total (national level)</td>\n",
       "      <td>All age ranges or no breakdown by age</td>\n",
       "      <td>Both sexes or no breakdown by sex</td>\n",
       "      <td>NaN</td>\n",
       "      <td>Percent</td>\n",
       "      <td>2003</td>\n",
       "      <td>0.4830</td>\n",
       "      <td>Ghana</td>\n",
       "      <td>of its people have access to electric power?</td>\n",
       "      <td>good</td>\n",
       "    </tr>\n",
       "    <tr>\n",
       "      <th>4</th>\n",
       "      <td>7</td>\n",
       "      <td>210721</td>\n",
       "      <td>C070101</td>\n",
       "      <td>Proportion of population with access to electr...</td>\n",
       "      <td>power</td>\n",
       "      <td>Proportion of population with access to electr...</td>\n",
       "      <td>GHA</td>\n",
       "      <td>Total (national level)</td>\n",
       "      <td>All age ranges or no breakdown by age</td>\n",
       "      <td>Both sexes or no breakdown by sex</td>\n",
       "      <td>NaN</td>\n",
       "      <td>Percent</td>\n",
       "      <td>2004</td>\n",
       "      <td>0.5287</td>\n",
       "      <td>Ghana</td>\n",
       "      <td>of its people have access to electric power?</td>\n",
       "      <td>good</td>\n",
       "    </tr>\n",
       "  </tbody>\n",
       "</table>\n",
       "</div>"
      ],
      "text/plain": [
       "   goal  priority indicator_id  \\\n",
       "0     7    210721      C070101   \n",
       "1     7    210721      C070101   \n",
       "2     7    210721      C070101   \n",
       "3     7    210721      C070101   \n",
       "4     7    210721      C070101   \n",
       "\n",
       "                               indicator_description  topic  \\\n",
       "0  Proportion of population with access to electr...  power   \n",
       "1  Proportion of population with access to electr...  power   \n",
       "2  Proportion of population with access to electr...  power   \n",
       "3  Proportion of population with access to electr...  power   \n",
       "4  Proportion of population with access to electr...  power   \n",
       "\n",
       "                                              series country_code  \\\n",
       "0  Proportion of population with access to electr...          GHA   \n",
       "1  Proportion of population with access to electr...          GHA   \n",
       "2  Proportion of population with access to electr...          GHA   \n",
       "3  Proportion of population with access to electr...          GHA   \n",
       "4  Proportion of population with access to electr...          GHA   \n",
       "\n",
       "                 location                              age_group  \\\n",
       "0  Total (national level)  All age ranges or no breakdown by age   \n",
       "1  Total (national level)  All age ranges or no breakdown by age   \n",
       "2  Total (national level)  All age ranges or no breakdown by age   \n",
       "3  Total (national level)  All age ranges or no breakdown by age   \n",
       "4  Total (national level)  All age ranges or no breakdown by age   \n",
       "\n",
       "                                 sex value_type     unit  year   value  \\\n",
       "0  Both sexes or no breakdown by sex        NaN  Percent  2000  0.4481   \n",
       "1  Both sexes or no breakdown by sex        NaN  Percent  2001  0.4683   \n",
       "2  Both sexes or no breakdown by sex        NaN  Percent  2002  0.4885   \n",
       "3  Both sexes or no breakdown by sex        NaN  Percent  2003  0.4830   \n",
       "4  Both sexes or no breakdown by sex        NaN  Percent  2004  0.5287   \n",
       "\n",
       "  country                                indicator_text value_judgement  \n",
       "0   Ghana  of its people have access to electric power?            good  \n",
       "1   Ghana  of its people have access to electric power?            good  \n",
       "2   Ghana  of its people have access to electric power?            good  \n",
       "3   Ghana  of its people have access to electric power?            good  \n",
       "4   Ghana  of its people have access to electric power?            good  "
      ]
     },
     "execution_count": 344,
     "metadata": {},
     "output_type": "execute_result"
    }
   ],
   "source": [
    "sdg_selection.head()"
   ]
  },
  {
   "cell_type": "raw",
   "metadata": {},
   "source": [
    "Alex, did you known that in Brazil in 2014, some (19%) of its people aged 15 to 24 were not in school, education, or training, and also could not find a job? This is about the same as in 2009. "
   ]
  },
  {
   "cell_type": "code",
   "execution_count": 345,
   "metadata": {},
   "outputs": [],
   "source": [
    "if len(sdg_selection) == 0:\n",
    "    print(\"Hi {}, I am interested in {} too.\".format(\n",
    "            user_name, target_topic),\n",
    "          \"I hope that {} and {} can be friends.\".format(\n",
    "            user_country_nickname, target_country_nickname))\n",
    "    "
   ]
  },
  {
   "cell_type": "code",
   "execution_count": 346,
   "metadata": {},
   "outputs": [
    {
     "data": {
      "text/plain": [
       "15"
      ]
     },
     "execution_count": 346,
     "metadata": {},
     "output_type": "execute_result"
    }
   ],
   "source": [
    "len(sdg_selection)"
   ]
  },
  {
   "cell_type": "code",
   "execution_count": 347,
   "metadata": {
    "collapsed": true
   },
   "outputs": [],
   "source": [
    "percent_desc = pd.DataFrame(\n",
    "    {'lower_bound': [0.00, 0.05, 0.34, 0.68, 0.95, 1.00],\n",
    "     'upper_bound': [0.05, 0.34, 0.68, 0.95, 1.00, np.infty],\n",
    "     'text'  : [\"almost none\",\"some\",\"about half\",\n",
    "                             \"many\",\"almost all\", \"all\"]})\n",
    "\n",
    "comparison_desc = pd.DataFrame(\n",
    "    {'lower_bound': [-np.infty, -1.0, -0.2, -0.1, 0.1, 0.2, 1.0],\n",
    "     'upper_bound': [-1, -0.2, -0.1,  0.1, 0.2, 1.0, np.infty],\n",
    "     'text'  : [\"very much lesser\", \"much lesser\", \"lesser\", \"about the same\",\n",
    "                                \"greater\", \"much greater\", \"very much greater\"]})"
   ]
  },
  {
   "cell_type": "code",
   "execution_count": 348,
   "metadata": {},
   "outputs": [
    {
     "data": {
      "text/html": [
       "<div>\n",
       "<style>\n",
       "    .dataframe thead tr:only-child th {\n",
       "        text-align: right;\n",
       "    }\n",
       "\n",
       "    .dataframe thead th {\n",
       "        text-align: left;\n",
       "    }\n",
       "\n",
       "    .dataframe tbody tr th {\n",
       "        vertical-align: top;\n",
       "    }\n",
       "</style>\n",
       "<table border=\"1\" class=\"dataframe\">\n",
       "  <thead>\n",
       "    <tr style=\"text-align: right;\">\n",
       "      <th></th>\n",
       "      <th>lower_bound</th>\n",
       "      <th>text</th>\n",
       "      <th>upper_bound</th>\n",
       "    </tr>\n",
       "  </thead>\n",
       "  <tbody>\n",
       "    <tr>\n",
       "      <th>0</th>\n",
       "      <td>0.00</td>\n",
       "      <td>almost none</td>\n",
       "      <td>0.050000</td>\n",
       "    </tr>\n",
       "    <tr>\n",
       "      <th>1</th>\n",
       "      <td>0.05</td>\n",
       "      <td>some</td>\n",
       "      <td>0.340000</td>\n",
       "    </tr>\n",
       "    <tr>\n",
       "      <th>2</th>\n",
       "      <td>0.34</td>\n",
       "      <td>about half</td>\n",
       "      <td>0.680000</td>\n",
       "    </tr>\n",
       "    <tr>\n",
       "      <th>3</th>\n",
       "      <td>0.68</td>\n",
       "      <td>many</td>\n",
       "      <td>0.950000</td>\n",
       "    </tr>\n",
       "    <tr>\n",
       "      <th>4</th>\n",
       "      <td>0.95</td>\n",
       "      <td>almost all</td>\n",
       "      <td>1.000000</td>\n",
       "    </tr>\n",
       "    <tr>\n",
       "      <th>5</th>\n",
       "      <td>1.00</td>\n",
       "      <td>all</td>\n",
       "      <td>inf</td>\n",
       "    </tr>\n",
       "  </tbody>\n",
       "</table>\n",
       "</div>"
      ],
      "text/plain": [
       "   lower_bound         text  upper_bound\n",
       "0         0.00  almost none     0.050000\n",
       "1         0.05         some     0.340000\n",
       "2         0.34   about half     0.680000\n",
       "3         0.68         many     0.950000\n",
       "4         0.95   almost all     1.000000\n",
       "5         1.00          all          inf"
      ]
     },
     "execution_count": 348,
     "metadata": {},
     "output_type": "execute_result"
    }
   ],
   "source": [
    "percent_desc"
   ]
  },
  {
   "cell_type": "code",
   "execution_count": 349,
   "metadata": {},
   "outputs": [
    {
     "data": {
      "text/plain": [
       "(2014, 0.78299999999999992)"
      ]
     },
     "execution_count": 349,
     "metadata": {},
     "output_type": "execute_result"
    }
   ],
   "source": [
    "sdg_selection.year.min(), sdg_selection.value.min(),\n",
    "sdg_selection.year.max(), sdg_selection.value.max()"
   ]
  },
  {
   "cell_type": "code",
   "execution_count": 350,
   "metadata": {},
   "outputs": [
    {
     "name": "stdout",
     "output_type": "stream",
     "text": [
      "many\n"
     ]
    }
   ],
   "source": [
    "perc_text = percent_desc.loc[\n",
    "    np.logical_and(\n",
    "        sdg_selection.value.max() >= percent_desc.lower_bound,\n",
    "        sdg_selection.value.max() < percent_desc.upper_bound),\n",
    "    'text'].values[0]\n",
    "print(perc_text)"
   ]
  },
  {
   "cell_type": "code",
   "execution_count": 351,
   "metadata": {},
   "outputs": [
    {
     "data": {
      "text/html": [
       "<div>\n",
       "<style>\n",
       "    .dataframe thead tr:only-child th {\n",
       "        text-align: right;\n",
       "    }\n",
       "\n",
       "    .dataframe thead th {\n",
       "        text-align: left;\n",
       "    }\n",
       "\n",
       "    .dataframe tbody tr th {\n",
       "        vertical-align: top;\n",
       "    }\n",
       "</style>\n",
       "<table border=\"1\" class=\"dataframe\">\n",
       "  <thead>\n",
       "    <tr style=\"text-align: right;\">\n",
       "      <th></th>\n",
       "      <th>lower_bound</th>\n",
       "      <th>text</th>\n",
       "      <th>upper_bound</th>\n",
       "    </tr>\n",
       "  </thead>\n",
       "  <tbody>\n",
       "    <tr>\n",
       "      <th>0</th>\n",
       "      <td>-inf</td>\n",
       "      <td>very much lesser</td>\n",
       "      <td>-1.000000</td>\n",
       "    </tr>\n",
       "    <tr>\n",
       "      <th>1</th>\n",
       "      <td>-1.000000</td>\n",
       "      <td>much lesser</td>\n",
       "      <td>-0.200000</td>\n",
       "    </tr>\n",
       "    <tr>\n",
       "      <th>2</th>\n",
       "      <td>-0.200000</td>\n",
       "      <td>lesser</td>\n",
       "      <td>-0.100000</td>\n",
       "    </tr>\n",
       "    <tr>\n",
       "      <th>3</th>\n",
       "      <td>-0.100000</td>\n",
       "      <td>about the same</td>\n",
       "      <td>0.100000</td>\n",
       "    </tr>\n",
       "    <tr>\n",
       "      <th>4</th>\n",
       "      <td>0.100000</td>\n",
       "      <td>greater</td>\n",
       "      <td>0.200000</td>\n",
       "    </tr>\n",
       "    <tr>\n",
       "      <th>5</th>\n",
       "      <td>0.200000</td>\n",
       "      <td>much greater</td>\n",
       "      <td>1.000000</td>\n",
       "    </tr>\n",
       "    <tr>\n",
       "      <th>6</th>\n",
       "      <td>1.000000</td>\n",
       "      <td>very much greater</td>\n",
       "      <td>inf</td>\n",
       "    </tr>\n",
       "  </tbody>\n",
       "</table>\n",
       "</div>"
      ],
      "text/plain": [
       "   lower_bound               text  upper_bound\n",
       "0         -inf   very much lesser    -1.000000\n",
       "1    -1.000000        much lesser    -0.200000\n",
       "2    -0.200000             lesser    -0.100000\n",
       "3    -0.100000     about the same     0.100000\n",
       "4     0.100000            greater     0.200000\n",
       "5     0.200000       much greater     1.000000\n",
       "6     1.000000  very much greater          inf"
      ]
     },
     "execution_count": 351,
     "metadata": {},
     "output_type": "execute_result"
    }
   ],
   "source": [
    "comparison_desc"
   ]
  },
  {
   "cell_type": "code",
   "execution_count": 375,
   "metadata": {},
   "outputs": [
    {
     "name": "stdout",
     "output_type": "stream",
     "text": [
      "much greater\n"
     ]
    }
   ],
   "source": [
    "comparison_text = comparison_desc.loc[\n",
    "    np.logical_and(\n",
    "        sdg_selection.value.max() >= comparison_desc.lower_bound,\n",
    "        sdg_selection.value.max() < comparison_desc.upper_bound),\n",
    "    'text'\n",
    "].iloc[0]\n",
    "print(comparison_text)"
   ]
  },
  {
   "cell_type": "code",
   "execution_count": 353,
   "metadata": {},
   "outputs": [
    {
     "data": {
      "text/plain": [
       "'Hi Sam! My name is Fatoumata.'"
      ]
     },
     "execution_count": 353,
     "metadata": {},
     "output_type": "execute_result"
    }
   ],
   "source": [
    "'Hi {}! My name is {}.'.format(user_name, country_child_name)"
   ]
  },
  {
   "cell_type": "code",
   "execution_count": 354,
   "metadata": {},
   "outputs": [],
   "source": [
    "def millify(n):\n",
    "    millnames = ['',' thousand',' million',' billion',' trillion']\n",
    "    n = float(n)\n",
    "    millidx = max(0,min(len(millnames)-1,\n",
    "                        int(np.floor(0 if n == 0 else np.log10(abs(n))/3))))\n",
    "\n",
    "    return '{:.0f}{}'.format(n / 10**(3 * millidx), millnames[millidx])"
   ]
  },
  {
   "cell_type": "code",
   "execution_count": 355,
   "metadata": {},
   "outputs": [
    {
     "data": {
      "text/plain": [
       "'Sam, did you know that 28 million people live in Brazil?'"
      ]
     },
     "execution_count": 355,
     "metadata": {},
     "output_type": "execute_result"
    }
   ],
   "source": [
    "'{}, did you know that {} people live in Brazil?'.format(\n",
    "    user_name,\n",
    "    millify(\n",
    "    country_data.loc[\n",
    "        country_data.country == target_country, \n",
    "        'population'].values[0]))"
   ]
  },
  {
   "cell_type": "raw",
   "metadata": {},
   "source": [
    "Alex, did you known that in Brazil in 2014, some (19%) of its people aged 15 to 24 were not in school, education, or training, and also could not find a job? This is about the same as in 2009. "
   ]
  },
  {
   "cell_type": "code",
   "execution_count": 356,
   "metadata": {},
   "outputs": [
    {
     "data": {
      "text/plain": [
       "'Sam, did you know that in Ghana in 2014, many (78.3%) of its people have access to electric power? This is much greater as in 2000'"
      ]
     },
     "execution_count": 356,
     "metadata": {},
     "output_type": "execute_result"
    }
   ],
   "source": [
    "' '.join(\n",
    "    ['{}, did you know that in {} in {:d},'.format(\n",
    "        user_name, target_country, sdg_selection.year.max()),\n",
    "     '{} ({:.1f}%) {}'.format(\n",
    "        perc_text, \n",
    "        sdg_selection.loc[\n",
    "            sdg_selection.year == sdg_selection.year.max(),\n",
    "            'value'].values[0] * 100,\n",
    "        indicator_selection.indicator_text.values[0]\n",
    "        ),\n",
    "     'This is {} as in {}'.format(\n",
    "         comparison_text, sdg_selection.year.min())\n",
    "    ]\n",
    ")"
   ]
  },
  {
   "cell_type": "code",
   "execution_count": 357,
   "metadata": {},
   "outputs": [
    {
     "data": {
      "text/plain": [
       "<matplotlib.axes._subplots.AxesSubplot at 0x1d0803497b8>"
      ]
     },
     "execution_count": 357,
     "metadata": {},
     "output_type": "execute_result"
    },
    {
     "data": {
      "image/png": "[encoded data removed]",
      "text/plain": [
       "<matplotlib.figure.Figure at 0x1d0802e9438>"
      ]
     },
     "metadata": {},
     "output_type": "display_data"
    }
   ],
   "source": [
    "sdg_selection.plot(x='year', y='value', marker = 'o')"
   ]
  },
  {
   "cell_type": "code",
   "execution_count": 358,
   "metadata": {},
   "outputs": [
    {
     "data": {
      "text/plain": [
       "<matplotlib.axes._subplots.AxesSubplot at 0x1d0803e8080>"
      ]
     },
     "execution_count": 358,
     "metadata": {},
     "output_type": "execute_result"
    },
    {
     "data": {
      "image/png": "[encoded data removed]",
      "text/plain": [
       "<matplotlib.figure.Figure at 0x1d08034bd68>"
      ]
     },
     "metadata": {},
     "output_type": "display_data"
    }
   ],
   "source": [
    "sns.regplot(x = 'year', y = 'value', data = sdg_selection)"
   ]
  },
  {
   "cell_type": "code",
   "execution_count": 363,
   "metadata": {},
   "outputs": [],
   "source": [
    "sdg_countries_selection = sdg_data.merge(selected_indicators, \n",
    "    on = ['goal', 'priority', 'indicator_id', 'topic', 'series', 'location', \n",
    "          'age_group', 'unit', 'sex', 'value_type'],\n",
    "    how = 'inner')"
   ]
  },
  {
   "cell_type": "code",
   "execution_count": 368,
   "metadata": {},
   "outputs": [
    {
     "data": {
      "text/plain": [
       "<matplotlib.axes._subplots.AxesSubplot at 0x1d080dad588>"
      ]
     },
     "execution_count": 368,
     "metadata": {},
     "output_type": "execute_result"
    },
    {
     "data": {
      "image/png": "[encoded data removed]",
      "text/plain": [
       "<matplotlib.figure.Figure at 0x1d08178b668>"
      ]
     },
     "metadata": {},
     "output_type": "display_data"
    }
   ],
   "source": [
    "sdg_countries_selection.value.plot(kind = 'hist', bins=100, logx=True)"
   ]
  },
  {
   "cell_type": "code",
   "execution_count": null,
   "metadata": {
    "collapsed": true
   },
   "outputs": [],
   "source": []
  },
  {
   "cell_type": "code",
   "execution_count": null,
   "metadata": {
    "collapsed": true
   },
   "outputs": [],
   "source": []
  },
  {
   "cell_type": "code",
   "execution_count": null,
   "metadata": {
    "collapsed": true
   },
   "outputs": [],
   "source": []
  },
  {
   "cell_type": "code",
   "execution_count": null,
   "metadata": {
    "collapsed": true
   },
   "outputs": [],
   "source": []
  },
  {
   "cell_type": "code",
   "execution_count": 82,
   "metadata": {},
   "outputs": [
    {
     "data": {
      "text/plain": [
       "<matplotlib.axes._subplots.AxesSubplot at 0x1d0e5570748>"
      ]
     },
     "execution_count": 82,
     "metadata": {},
     "output_type": "execute_result"
    },
    {
     "data": {
      "image/png": "[encoded data removed]",
      "text/plain": [
       "<matplotlib.figure.Figure at 0x1d0e3780898>"
      ]
     },
     "metadata": {},
     "output_type": "display_data"
    }
   ],
   "source": [
    "sdg_selection.plot(x = 'year', y = 'value', marker = 'o',\n",
    "    title=sdg_selection.series.values[0])"
   ]
  },
  {
   "cell_type": "code",
   "execution_count": 90,
   "metadata": {},
   "outputs": [
    {
     "data": {
      "text/plain": [
       "<matplotlib.axes._subplots.AxesSubplot at 0x1d0e838beb8>"
      ]
     },
     "execution_count": 90,
     "metadata": {},
     "output_type": "execute_result"
    },
    {
     "data": {
      "image/png": "[encoded data removed]",
      "text/plain": [
       "<matplotlib.figure.Figure at 0x1d0e83efb38>"
      ]
     },
     "metadata": {},
     "output_type": "display_data"
    }
   ],
   "source": [
    "sns.regplot(x = 'year', y = 'value', data = sdg_selection)"
   ]
  },
  {
   "cell_type": "code",
   "execution_count": 384,
   "metadata": {},
   "outputs": [
    {
     "data": {
      "text/plain": [
       "'Emma'"
      ]
     },
     "execution_count": 384,
     "metadata": {},
     "output_type": "execute_result"
    }
   ],
   "source": [
    "country_data.loc[\n",
    "\tcountry_data.country == 'Cayman Islands', user_sex + \"_name\"]\\\n",
    "\t.iloc[0]"
   ]
  },
  {
   "cell_type": "code",
   "execution_count": null,
   "metadata": {
    "collapsed": true
   },
   "outputs": [],
   "source": []
  },
  {
   "cell_type": "code",
   "execution_count": null,
   "metadata": {
    "collapsed": true
   },
   "outputs": [],
   "source": []
  },
  {
   "cell_type": "code",
   "execution_count": null,
   "metadata": {
    "collapsed": true
   },
   "outputs": [],
   "source": []
  },
  {
   "cell_type": "code",
   "execution_count": null,
   "metadata": {
    "collapsed": true
   },
   "outputs": [],
   "source": []
  },
  {
   "cell_type": "code",
   "execution_count": null,
   "metadata": {
    "collapsed": true
   },
   "outputs": [],
   "source": []
  },
  {
   "cell_type": "code",
   "execution_count": null,
   "metadata": {
    "collapsed": true
   },
   "outputs": [],
   "source": []
  },
  {
   "cell_type": "code",
   "execution_count": null,
   "metadata": {
    "collapsed": true
   },
   "outputs": [],
   "source": []
  },
  {
   "cell_type": "code",
   "execution_count": null,
   "metadata": {
    "collapsed": true
   },
   "outputs": [],
   "source": []
  },
  {
   "cell_type": "code",
   "execution_count": null,
   "metadata": {
    "collapsed": true
   },
   "outputs": [],
   "source": []
  },
  {
   "cell_type": "code",
   "execution_count": null,
   "metadata": {
    "collapsed": true
   },
   "outputs": [],
   "source": []
  },
  {
   "cell_type": "code",
   "execution_count": null,
   "metadata": {
    "collapsed": true
   },
   "outputs": [],
   "source": []
  },
  {
   "cell_type": "code",
   "execution_count": null,
   "metadata": {
    "collapsed": true
   },
   "outputs": [],
   "source": []
  },
  {
   "cell_type": "code",
   "execution_count": null,
   "metadata": {
    "collapsed": true
   },
   "outputs": [],
   "source": []
  },
  {
   "cell_type": "code",
   "execution_count": null,
   "metadata": {
    "collapsed": true
   },
   "outputs": [],
   "source": []
  },
  {
   "cell_type": "code",
   "execution_count": null,
   "metadata": {
    "collapsed": true
   },
   "outputs": [],
   "source": []
  },
  {
   "cell_type": "code",
   "execution_count": null,
   "metadata": {
    "collapsed": true
   },
   "outputs": [],
   "source": []
  },
  {
   "cell_type": "code",
   "execution_count": null,
   "metadata": {
    "collapsed": true
   },
   "outputs": [],
   "source": []
  },
  {
   "cell_type": "code",
   "execution_count": null,
   "metadata": {
    "collapsed": true
   },
   "outputs": [],
   "source": []
  },
  {
   "cell_type": "code",
   "execution_count": null,
   "metadata": {
    "collapsed": true
   },
   "outputs": [],
   "source": []
  },
  {
   "cell_type": "code",
   "execution_count": null,
   "metadata": {
    "collapsed": true
   },
   "outputs": [],
   "source": []
  },
  {
   "cell_type": "code",
   "execution_count": null,
   "metadata": {
    "collapsed": true
   },
   "outputs": [],
   "source": []
  },
  {
   "cell_type": "code",
   "execution_count": null,
   "metadata": {
    "collapsed": true
   },
   "outputs": [],
   "source": []
  },
  {
   "cell_type": "code",
   "execution_count": null,
   "metadata": {
    "collapsed": true
   },
   "outputs": [],
   "source": []
  },
  {
   "cell_type": "code",
   "execution_count": null,
   "metadata": {
    "collapsed": true
   },
   "outputs": [],
   "source": []
  },
  {
   "cell_type": "code",
   "execution_count": null,
   "metadata": {
    "collapsed": true
   },
   "outputs": [],
   "source": []
  },
  {
   "cell_type": "code",
   "execution_count": null,
   "metadata": {
    "collapsed": true
   },
   "outputs": [],
   "source": []
  },
  {
   "cell_type": "code",
   "execution_count": null,
   "metadata": {
    "collapsed": true
   },
   "outputs": [],
   "source": []
  },
  {
   "cell_type": "code",
   "execution_count": null,
   "metadata": {
    "collapsed": true
   },
   "outputs": [],
   "source": []
  },
  {
   "cell_type": "code",
   "execution_count": null,
   "metadata": {
    "collapsed": true
   },
   "outputs": [],
   "source": []
  },
  {
   "cell_type": "code",
   "execution_count": null,
   "metadata": {
    "collapsed": true
   },
   "outputs": [],
   "source": []
  },
  {
   "cell_type": "code",
   "execution_count": null,
   "metadata": {
    "collapsed": true
   },
   "outputs": [],
   "source": []
  },
  {
   "cell_type": "code",
   "execution_count": null,
   "metadata": {
    "collapsed": true
   },
   "outputs": [],
   "source": []
  },
  {
   "cell_type": "code",
   "execution_count": null,
   "metadata": {
    "collapsed": true
   },
   "outputs": [],
   "source": []
  },
  {
   "cell_type": "code",
   "execution_count": null,
   "metadata": {
    "collapsed": true
   },
   "outputs": [],
   "source": []
  },
  {
   "cell_type": "code",
   "execution_count": null,
   "metadata": {
    "collapsed": true
   },
   "outputs": [],
   "source": []
  },
  {
   "cell_type": "code",
   "execution_count": null,
   "metadata": {
    "collapsed": true
   },
   "outputs": [],
   "source": []
  },
  {
   "cell_type": "code",
   "execution_count": null,
   "metadata": {
    "collapsed": true
   },
   "outputs": [],
   "source": []
  },
  {
   "cell_type": "code",
   "execution_count": null,
   "metadata": {
    "collapsed": true
   },
   "outputs": [],
   "source": []
  },
  {
   "cell_type": "code",
   "execution_count": null,
   "metadata": {
    "collapsed": true
   },
   "outputs": [],
   "source": []
  },
  {
   "cell_type": "code",
   "execution_count": null,
   "metadata": {
    "collapsed": true
   },
   "outputs": [],
   "source": []
  },
  {
   "cell_type": "code",
   "execution_count": null,
   "metadata": {
    "collapsed": true
   },
   "outputs": [],
   "source": []
  },
  {
   "cell_type": "code",
   "execution_count": null,
   "metadata": {
    "collapsed": true
   },
   "outputs": [],
   "source": []
  },
  {
   "cell_type": "code",
   "execution_count": null,
   "metadata": {
    "collapsed": true
   },
   "outputs": [],
   "source": []
  },
  {
   "cell_type": "code",
   "execution_count": null,
   "metadata": {
    "collapsed": true
   },
   "outputs": [],
   "source": []
  },
  {
   "cell_type": "code",
   "execution_count": null,
   "metadata": {
    "collapsed": true
   },
   "outputs": [],
   "source": []
  },
  {
   "cell_type": "code",
   "execution_count": null,
   "metadata": {
    "collapsed": true
   },
   "outputs": [],
   "source": []
  },
  {
   "cell_type": "code",
   "execution_count": null,
   "metadata": {
    "collapsed": true
   },
   "outputs": [],
   "source": []
  },
  {
   "cell_type": "code",
   "execution_count": null,
   "metadata": {
    "collapsed": true
   },
   "outputs": [],
   "source": []
  },
  {
   "cell_type": "code",
   "execution_count": null,
   "metadata": {
    "collapsed": true
   },
   "outputs": [],
   "source": []
  },
  {
   "cell_type": "code",
   "execution_count": null,
   "metadata": {
    "collapsed": true
   },
   "outputs": [],
   "source": []
  },
  {
   "cell_type": "code",
   "execution_count": null,
   "metadata": {
    "collapsed": true
   },
   "outputs": [],
   "source": []
  },
  {
   "cell_type": "code",
   "execution_count": null,
   "metadata": {
    "collapsed": true
   },
   "outputs": [],
   "source": []
  },
  {
   "cell_type": "code",
   "execution_count": null,
   "metadata": {
    "collapsed": true
   },
   "outputs": [],
   "source": []
  }
 ],
 "metadata": {
  "kernelspec": {
   "display_name": "Python 3",
   "language": "python",
   "name": "python3"
  },
  "language_info": {
   "codemirror_mode": {
    "name": "ipython",
    "version": 3
   },
   "file_extension": ".py",
   "mimetype": "text/x-python",
   "name": "python",
   "nbconvert_exporter": "python",
   "pygments_lexer": "ipython3",
   "version": "3.6.1"
  }
 },
 "nbformat": 4,
 "nbformat_minor": 2
}

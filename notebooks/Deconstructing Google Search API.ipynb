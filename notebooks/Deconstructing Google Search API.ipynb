{
 "cells": [
  {
   "cell_type": "markdown",
   "metadata": {},
   "source": [
    "# Deconstructing Google Search API"
   ]
  },
  {
   "cell_type": "markdown",
   "metadata": {},
   "source": [
    "Here I will be working through the Google Search API to try and solve problems for the hackathon project."
   ]
  },
  {
   "cell_type": "markdown",
   "metadata": {},
   "source": [
    "## Google Image Search"
   ]
  },
  {
   "cell_type": "markdown",
   "metadata": {},
   "source": [
    "The Google Image Search doesn't seem to work at the moment. Perhaps I can fix it."
   ]
  },
  {
   "cell_type": "code",
   "execution_count": 1,
   "metadata": {
    "collapsed": true
   },
   "outputs": [],
   "source": [
    "from __future__ import unicode_literals\n",
    "from __future__ import print_function\n",
    "from __future__ import absolute_import\n",
    "from future import standard_library\n",
    "standard_library.install_aliases()\n",
    "from builtins import str\n",
    "from builtins import range\n",
    "from builtins import object\n",
    "from unidecode import unidecode"
   ]
  },
  {
   "cell_type": "code",
   "execution_count": 2,
   "metadata": {
    "collapsed": true
   },
   "outputs": [],
   "source": [
    "from utils import get_browser_with_url, write_html_to_file, measure_time\n",
    "from bs4 import BeautifulSoup\n",
    "import urllib.parse\n",
    "import sys\n",
    "import requests\n",
    "import shutil\n",
    "import os\n",
    "import threading\n",
    "import queue"
   ]
  },
  {
   "cell_type": "code",
   "execution_count": 3,
   "metadata": {
    "collapsed": true
   },
   "outputs": [],
   "source": [
    "IMAGE_FORMATS = [\"bmp\", \"gif\", \"jpg\", \"png\", \"psd\", \"pspimage\", \"thm\",\n",
    "                 \"tif\", \"yuv\", \"ai\", \"drw\", \"eps\", \"ps\", \"svg\", \"tiff\",\n",
    "                 \"jpeg\", \"jif\", \"jfif\", \"jp2\", \"jpx\", \"j2k\", \"j2c\", \"fpx\",\n",
    "                 \"pcd\", \"png\", \"pdf\"]"
   ]
  },
  {
   "cell_type": "code",
   "execution_count": 4,
   "metadata": {
    "collapsed": true
   },
   "outputs": [],
   "source": [
    "# AUXILIARY CLASSES\n",
    "class ImageType(object):\n",
    "    NONE = None\n",
    "    FACE = \"face\"\n",
    "    PHOTO = \"photo\"\n",
    "    CLIPART = \"clipart\"\n",
    "    LINE_DRAWING = \"lineart\""
   ]
  },
  {
   "cell_type": "code",
   "execution_count": 5,
   "metadata": {
    "collapsed": true
   },
   "outputs": [],
   "source": [
    "class SizeCategory(object):\n",
    "    NONE = None\n",
    "    ICON = \"i\"\n",
    "    LARGE = \"l\"\n",
    "    MEDIUM = \"m\"\n",
    "    SMALL = \"s\"\n",
    "    LARGER_THAN = \"lt\"\n",
    "    EXACTLY = \"ex\""
   ]
  },
  {
   "cell_type": "code",
   "execution_count": 6,
   "metadata": {
    "collapsed": true
   },
   "outputs": [],
   "source": [
    "class LargerThan(object):\n",
    "    NONE = None\n",
    "    QSVGA = \"qsvga\"  # 400 x 300\n",
    "    VGA = \"vga\"     # 640 x 480\n",
    "    SVGA = \"svga\"   # 800 x 600\n",
    "    XGA = \"xga\"     # 1024 x 768\n",
    "    MP_2 = \"2mp\"    # 2 MP (1600 x 1200)\n",
    "    MP_4 = \"4mp\"    # 4 MP (2272 x 1704)\n",
    "    MP_6 = \"6mp\"    # 6 MP (2816 x 2112)\n",
    "    MP_8 = \"8mp\"    # 8 MP (3264 x 2448)\n",
    "    MP_10 = \"10mp\"  # 10 MP (3648 x 2736)\n",
    "    MP_12 = \"12mp\"  # 12 MP (4096 x 3072)\n",
    "    MP_15 = \"15mp\"  # 15 MP (4480 x 3360)\n",
    "    MP_20 = \"20mp\"  # 20 MP (5120 x 3840)\n",
    "    MP_40 = \"40mp\"  # 40 MP (7216 x 5412)\n",
    "    MP_70 = \"70mp\"  # 70 MP (9600 x 7200)"
   ]
  },
  {
   "cell_type": "code",
   "execution_count": 7,
   "metadata": {
    "collapsed": true
   },
   "outputs": [],
   "source": [
    "class ColorType(object):\n",
    "    NONE = None\n",
    "    COLOR = \"color\"\n",
    "    BLACK_WHITE = \"gray\"\n",
    "    SPECIFIC = \"specific\""
   ]
  },
  {
   "cell_type": "code",
   "execution_count": 8,
   "metadata": {
    "collapsed": true
   },
   "outputs": [],
   "source": [
    "class License(object):\n",
    "    NONE = None\n",
    "    REUSE = \"fc\"\n",
    "    REUSE_WITH_MOD = \"fmc\"\n",
    "    REUSE_NON_COMMERCIAL = \"f\"\n",
    "    REUSE_WITH_MOD_NON_COMMERCIAL = \"fm\""
   ]
  },
  {
   "cell_type": "code",
   "execution_count": 9,
   "metadata": {
    "collapsed": true
   },
   "outputs": [],
   "source": [
    "class ImageOptions(object):\n",
    "\n",
    "    \"\"\"Allows passing options to filter a google images search.\"\"\"\n",
    "\n",
    "    def __init__(self):\n",
    "        self.image_type = None\n",
    "        self.size_category = None\n",
    "        self.larger_than = None\n",
    "        self.exact_width = None\n",
    "        self.exact_height = None\n",
    "        self.color_type = None\n",
    "        self.color = None\n",
    "        self.license = None\n",
    "\n",
    "    def __repr__(self):\n",
    "        return unidecode(self.__dict__)\n",
    "\n",
    "    def get_tbs(self):\n",
    "        tbs = None\n",
    "        if self.image_type:\n",
    "            # clipart\n",
    "            tbs = self._add_to_tbs(tbs, \"itp\", self.image_type)\n",
    "        if self.size_category and not (self.larger_than or (self.exact_width and self.exact_height)):\n",
    "            # i = icon, l = large, m = medium, lt = larger than, ex = exact\n",
    "            tbs = self._add_to_tbs(tbs, \"isz\", self.size_category)\n",
    "        if self.larger_than:\n",
    "            # qsvga,4mp\n",
    "            tbs = self._add_to_tbs(tbs, \"isz\", SizeCategory.LARGER_THAN)\n",
    "            tbs = self._add_to_tbs(tbs, \"islt\", self.larger_than)\n",
    "        if self.exact_width and self.exact_height:\n",
    "            tbs = self._add_to_tbs(tbs, \"isz\", SizeCategory.EXACTLY)\n",
    "            tbs = self._add_to_tbs(tbs, \"iszw\", self.exact_width)\n",
    "            tbs = self._add_to_tbs(tbs, \"iszh\", self.exact_height)\n",
    "        if self.color_type and not self.color:\n",
    "            # color = color, gray = black and white, specific = user defined\n",
    "            tbs = self._add_to_tbs(tbs, \"ic\", self.color_type)\n",
    "        if self.color:\n",
    "            tbs = self._add_to_tbs(tbs, \"ic\", ColorType.SPECIFIC)\n",
    "            tbs = self._add_to_tbs(tbs, \"isc\", self.color)\n",
    "        if self.license:\n",
    "            tbs = self._add_to_tbs(tbs, \"sur\", self.license)\n",
    "        return tbs\n",
    "\n",
    "    def _add_to_tbs(self, tbs, name, value):\n",
    "        if tbs:\n",
    "            return \"%s,%s:%s\" % (tbs, name, value)\n",
    "        else:\n",
    "            return \"&tbs=%s:%s\" % (name, value)"
   ]
  },
  {
   "cell_type": "code",
   "execution_count": 10,
   "metadata": {
    "collapsed": true
   },
   "outputs": [],
   "source": [
    "class ImageResult(object):\n",
    "\n",
    "    \"\"\"Represents a google image search result.\"\"\"\n",
    "\n",
    "    ROOT_FILENAME = \"img\"\n",
    "    DEFAULT_FORMAT = \"jpg\"\n",
    "\n",
    "    def __init__(self):\n",
    "        self.name = None\n",
    "        self.file_name = None\n",
    "        self.link = None\n",
    "        self.thumb = None\n",
    "        self.thumb_width = None\n",
    "        self.thumb_height = None\n",
    "        self.width = None\n",
    "        self.height = None\n",
    "        self.filesize = None\n",
    "        self.format = None\n",
    "        self.domain = None\n",
    "        self.page = None\n",
    "        self.index = None\n",
    "        self.site = None\n",
    "\n",
    "    def __eq__(self, other):\n",
    "        return self.link == other.link\n",
    "\n",
    "    def __hash__(self):\n",
    "        return id(self.link)\n",
    "\n",
    "    def __repr__(self):\n",
    "        string = \"ImageResult(index={i}, page={p}, domain={d}, link={l})\".format(\n",
    "            i=str(self.index),\n",
    "            p=str(self.page),\n",
    "            d=unidecode(self.domain) if self.domain else None,\n",
    "            l=unidecode(self.link) if self.link else None\n",
    "        )\n",
    "        return string\n",
    "\n",
    "    def download(self, path=\"images\"):\n",
    "        \"\"\"Download an image to a given path.\"\"\"\n",
    "\n",
    "        self._create_path(path)\n",
    "        # print path\n",
    "\n",
    "        try:\n",
    "            response = requests.get(self.link, stream=True)\n",
    "            # request a protected image (adding a referer to the request)\n",
    "            # referer = self.domain\n",
    "            # image = self.link\n",
    "\n",
    "            # req = urllib2.Request(image)\n",
    "            # req.add_header('Referer', referer)   # here is the trick\n",
    "            # response = urllib2.urlopen(req)\n",
    "\n",
    "            if \"image\" in response.headers['content-type']:\n",
    "                path_filename = self._get_path_filename(path)\n",
    "                with open(path_filename, 'wb') as output_file:\n",
    "                    shutil.copyfileobj(response.raw, output_file)\n",
    "                    # output_file.write(response.content)\n",
    "            else:\n",
    "                print(\"\\r\\rskiped! cached image\")\n",
    "\n",
    "            del response\n",
    "\n",
    "        except Exception as inst:\n",
    "            print(self.link, \"has failed:\")\n",
    "            print(inst)\n",
    "\n",
    "    def _get_path_filename(self, path):\n",
    "        \"\"\"Build the filename to download.\n",
    "\n",
    "        Checks that filename is not already in path. Otherwise looks for\n",
    "        another name.\n",
    "\n",
    "        >>> ir = ImageResult()\n",
    "        >>> ir._get_path_filename(\"test\")\n",
    "        'test\\\\\\img3.jpg'\n",
    "        >>> ir.name = \"pirulo\"\n",
    "        >>> ir.format = \"jpg\"\n",
    "        >>> ir._get_path_filename(\"test\")\n",
    "        'test\\\\\\pirulo.jpg'\n",
    "        \"\"\"\n",
    "\n",
    "        path_filename = None\n",
    "\n",
    "        # preserve the original name\n",
    "        if self.file_name:\n",
    "            original_filename = self.file_name\n",
    "            path_filename = os.path.join(path, original_filename)\n",
    "\n",
    "        # create a default name if there is no original name\n",
    "        if not path_filename or os.path.isfile(path_filename):\n",
    "\n",
    "            # take the format of the file, or use default\n",
    "            if self.format:\n",
    "                file_format = self.format\n",
    "            else:\n",
    "                file_format = self.DEFAULT_FORMAT\n",
    "\n",
    "            # create root of file, until reaching a non existent one\n",
    "            i = 1\n",
    "            default_filename = self.ROOT_FILENAME + str(i) + \".\" + file_format\n",
    "            path_filename = os.path.join(path, default_filename)\n",
    "            while os.path.isfile(path_filename):\n",
    "                i += 1\n",
    "                default_filename = self.ROOT_FILENAME + str(i) + \".\" + \\\n",
    "                    file_format\n",
    "                path_filename = os.path.join(path, default_filename)\n",
    "\n",
    "        return path_filename\n",
    "\n",
    "    def _create_path(self, path):\n",
    "        \"\"\"Create a path, if it doesn't exists.\"\"\"\n",
    "\n",
    "        if not os.path.isdir(path):\n",
    "            os.mkdir(path)"
   ]
  },
  {
   "cell_type": "code",
   "execution_count": 11,
   "metadata": {
    "collapsed": true
   },
   "outputs": [],
   "source": [
    "# PRIVATE\n",
    "def _parse_image_format(image_link):\n",
    "    \"\"\"Parse an image format from a download link.\n",
    "\n",
    "    Args:\n",
    "        image_link: link to download an image.\n",
    "\n",
    "    >>> link = \"http://blogs.elpais.com/.a/6a00d8341bfb1653ef01a73dbb4a78970d-pi\"\n",
    "    >>> Google._parse_image_format(link)\n",
    "\n",
    "    >>> link = \"http://minionslovebananas.com/images/gallery/preview/Chiquita-DM2-minion-banana-3.jpg%3Fw%3D300%26h%3D429\"\n",
    "    >>> Google._parse_image_format(link)\n",
    "\n",
    "    \"\"\"\n",
    "    parsed_format = image_link[image_link.rfind(\".\") + 1:]\n",
    "\n",
    "    # OLD: identify formats even with weird final characters\n",
    "    if parsed_format not in IMAGE_FORMATS:\n",
    "        for image_format in IMAGE_FORMATS:\n",
    "            if image_format in parsed_format:\n",
    "                parsed_format = image_format\n",
    "                break\n",
    "\n",
    "    if parsed_format not in IMAGE_FORMATS:\n",
    "        parsed_format = None\n",
    "\n",
    "    return parsed_format"
   ]
  },
  {
   "cell_type": "code",
   "execution_count": 12,
   "metadata": {
    "collapsed": true
   },
   "outputs": [],
   "source": [
    "def _get_images_req_url(query, image_options=None, page=0,\n",
    "                        per_page=20):\n",
    "    query = query.strip().replace(\":\", \"%3A\").replace(\n",
    "        \"+\", \"%2B\").replace(\"&\", \"%26\").replace(\" \", \"+\")\n",
    "\n",
    "    url = \"https://www.google.com.ar/search?q={}\".format(query) + \\\n",
    "          \"&es_sm=122&source=lnms\" + \\\n",
    "          \"&tbm=isch&sa=X&ei=DDdUVL-fE4SpNq-ngPgK&ved=0CAgQ_AUoAQ\" + \\\n",
    "          \"&biw=1024&bih=719&dpr=1.25\"\n",
    "\n",
    "    if image_options:\n",
    "        tbs = image_options.get_tbs()\n",
    "        if tbs:\n",
    "            url = url + tbs\n",
    "\n",
    "    return url"
   ]
  },
  {
   "cell_type": "code",
   "execution_count": 13,
   "metadata": {
    "collapsed": true
   },
   "outputs": [],
   "source": [
    "def _find_divs_with_images(soup):\n",
    "\n",
    "    try:\n",
    "        div_container = soup.find(\"div\", {\"id\": \"rg_s\"})\n",
    "        divs = div_container.find_all(\"div\", {\"class\": \"rg_di\"})\n",
    "    except:\n",
    "        divs = None\n",
    "    return divs"
   ]
  },
  {
   "cell_type": "code",
   "execution_count": 14,
   "metadata": {
    "collapsed": true
   },
   "outputs": [],
   "source": [
    "def _get_file_name(link):\n",
    "\n",
    "    temp_name = link.rsplit('/', 1)[-1]\n",
    "    image_format = _parse_image_format(link)\n",
    "\n",
    "    if image_format and temp_name.rsplit(\".\", 1)[-1] != image_format:\n",
    "        file_name = temp_name.rsplit(\".\", 1)[0] + \".\" + image_format\n",
    "\n",
    "    else:\n",
    "        file_name = temp_name\n",
    "\n",
    "    return file_name"
   ]
  },
  {
   "cell_type": "code",
   "execution_count": 15,
   "metadata": {
    "collapsed": true
   },
   "outputs": [],
   "source": [
    "def _get_name():\n",
    "    pass"
   ]
  },
  {
   "cell_type": "code",
   "execution_count": 16,
   "metadata": {
    "collapsed": true
   },
   "outputs": [],
   "source": [
    "def _get_filesize():\n",
    "    pass"
   ]
  },
  {
   "cell_type": "code",
   "execution_count": 17,
   "metadata": {
    "collapsed": true
   },
   "outputs": [],
   "source": [
    "def _get_image_data(res, a):\n",
    "    \"\"\"Parse image data and write it to an ImageResult object.\n",
    "\n",
    "    Args:\n",
    "        res: An ImageResult object.\n",
    "        a: An \"a\" html tag.\n",
    "    \"\"\"\n",
    "    google_middle_link = a[\"href\"]\n",
    "    url_parsed = urllib.parse.urlparse(google_middle_link)\n",
    "    qry_parsed = urllib.parse.parse_qs(url_parsed.query)\n",
    "    res.name = _get_name()\n",
    "    res.link = qry_parsed[\"imgurl\"][0]\n",
    "    res.file_name = _get_file_name(res.link)\n",
    "    res.format = _parse_image_format(res.link)\n",
    "    res.width = qry_parsed[\"w\"][0]\n",
    "    res.height = qry_parsed[\"h\"][0]\n",
    "    res.site = qry_parsed[\"imgrefurl\"][0]\n",
    "    res.domain = urllib.parse.urlparse(res.site).netloc\n",
    "    res.filesize = _get_filesize()"
   ]
  },
  {
   "cell_type": "code",
   "execution_count": 18,
   "metadata": {
    "collapsed": true
   },
   "outputs": [],
   "source": [
    "def _get_thumb_data(res, img):\n",
    "    \"\"\"Parse thumb data and write it to an ImageResult object.\n",
    "\n",
    "    Args:\n",
    "        res: An ImageResult object.\n",
    "        a: An \"a\" html tag.\n",
    "    \"\"\"\n",
    "    try:\n",
    "        res.thumb = img[0][\"src\"]\n",
    "    except:\n",
    "        res.thumb = img[0][\"data-src\"]\n",
    "\n",
    "    try:\n",
    "        img_style = img[0][\"style\"].split(\";\")\n",
    "        img_style_dict = {i.split(\":\")[0]: i.split(\":\")[-1] for i in img_style}\n",
    "        res.thumb_width = img_style_dict[\"width\"]\n",
    "        res.thumb_height = img_style_dict[\"height\"]\n",
    "    except:\n",
    "        exc_type, exc_value, exc_traceback = sys.exc_info()\n",
    "        print(exc_type, exc_value, \"index=\", res.index)"
   ]
  },
  {
   "cell_type": "code",
   "execution_count": 19,
   "metadata": {
    "collapsed": true
   },
   "outputs": [],
   "source": [
    "# PUBLIC\n",
    "def search_old(query, image_options=None, pages=1):\n",
    "    results = []\n",
    "    for i in range(pages):\n",
    "        url = get_image_search_url(query, image_options, i)\n",
    "        html = get_html(url)\n",
    "        if html:\n",
    "            if Google.DEBUG_MODE:\n",
    "                write_html_to_file(\n",
    "                    html, \"images_{0}_{1}.html\".format(query.replace(\" \", \"_\"), i))\n",
    "            j = 0\n",
    "            soup = BeautifulSoup(html)\n",
    "            match = re.search(\"dyn.setResults\\((.+)\\);</script>\", html)\n",
    "            if match:\n",
    "                init = str(match.group(1), errors=\"ignore\")\n",
    "                tokens = init.split('],[')\n",
    "                for token in tokens:\n",
    "                    res = ImageResult()\n",
    "                    res.page = i\n",
    "                    res.index = j\n",
    "                    toks = token.split(\",\")\n",
    "\n",
    "                    # should be 32 or 33, but seems to change, so just make sure no exceptions\n",
    "                    # will be thrown by the indexing\n",
    "                    if (len(toks) > 22):\n",
    "                        for t in range(len(toks)):\n",
    "                            toks[t] = toks[t].replace('\\\\x3cb\\\\x3e', '').replace(\n",
    "                                '\\\\x3c/b\\\\x3e', '').replace('\\\\x3d', '=').replace('\\\\x26', '&')\n",
    "                        match = re.search(\n",
    "                            \"imgurl=(?P<link>[^&]+)&imgrefurl\", toks[0])\n",
    "                        if match:\n",
    "                            res.link = match.group(\"link\")\n",
    "                        res.name = toks[6].replace('\"', '')\n",
    "                        res.thumb = toks[21].replace('\"', '')\n",
    "                        res.format = toks[10].replace('\"', '')\n",
    "                        res.domain = toks[11].replace('\"', '')\n",
    "                        match = re.search(\n",
    "                            \"(?P<width>[0-9]+) &times; (?P<height>[0-9]+) - (?P<size>[^ ]+)\", toks[9].replace('\"', ''))\n",
    "                        if match:\n",
    "                            res.width = match.group(\"width\")\n",
    "                            res.height = match.group(\"height\")\n",
    "                            res.filesize = match.group(\"size\")\n",
    "                        results.append(res)\n",
    "                        j = j + 1\n",
    "    return results"
   ]
  },
  {
   "cell_type": "code",
   "execution_count": 20,
   "metadata": {
    "collapsed": true
   },
   "outputs": [],
   "source": [
    "def search(query, image_options=None, num_images=50):\n",
    "    \"\"\"Search images in google.\n",
    "\n",
    "    Search images in google filtering by image type, size category, resolution,\n",
    "    exact width, exact height, color type or color. A simple search can be\n",
    "    performed without passing options. To filter the search, an ImageOptions\n",
    "    must be built with the different filter categories and passed.\n",
    "\n",
    "    Args:\n",
    "        query: string to search in google images\n",
    "        image_options: an ImageOptions object to filter the search\n",
    "        num_images: number of images to be scraped\n",
    "\n",
    "    Returns:\n",
    "        A list of ImageResult objects\n",
    "    \"\"\"\n",
    "\n",
    "    results = set()\n",
    "    curr_num_img = 1\n",
    "    page = 0\n",
    "    browser = get_browser_with_url(\"https://www.google.com\")\n",
    "    while curr_num_img <= num_images:\n",
    "\n",
    "        page += 1\n",
    "        url = _get_images_req_url(query, image_options, page)\n",
    "        # html = get_html_from_dynamic_site(url)\n",
    "        \n",
    "        browser.get(url)\n",
    "        html = browser.page_source\n",
    "\n",
    "        if html:\n",
    "            soup = BeautifulSoup(html)\n",
    "\n",
    "            # iterate over the divs containing images in one page\n",
    "            divs = _find_divs_with_images(soup)\n",
    "\n",
    "            # empty search result page case\n",
    "            if not divs:\n",
    "                break\n",
    "\n",
    "            for div in divs:\n",
    "\n",
    "                res = ImageResult()\n",
    "\n",
    "                # store indexing paramethers\n",
    "                res.page = page\n",
    "                res.index = curr_num_img\n",
    "\n",
    "                # get url of image and its secondary data\n",
    "                a = div.find(\"a\")\n",
    "                if a:\n",
    "                    _get_image_data(res, a)\n",
    "\n",
    "                # get url of thumb and its size paramethers\n",
    "                img = a.find_all(\"img\")\n",
    "                if img:\n",
    "                    _get_thumb_data(res, img)\n",
    "\n",
    "                # increment image counter only if a new image was added\n",
    "                prev_num_results = len(results)\n",
    "                results.add(res)\n",
    "                curr_num_results = len(results)\n",
    "\n",
    "                if curr_num_results > prev_num_results:\n",
    "                    curr_num_img += 1\n",
    "\n",
    "                # break the loop when limit of images is reached\n",
    "                if curr_num_img >= num_images:\n",
    "                    break\n",
    "\n",
    "    browser.quit()\n",
    "\n",
    "    return list(results)"
   ]
  },
  {
   "cell_type": "code",
   "execution_count": 21,
   "metadata": {
    "collapsed": true
   },
   "outputs": [],
   "source": [
    "def _download_image(image_result, path):\n",
    "\n",
    "    if image_result.format:\n",
    "        if path:\n",
    "            image_result.download(path)\n",
    "        else:\n",
    "            image_result.download()"
   ]
  },
  {
   "cell_type": "code",
   "execution_count": 22,
   "metadata": {
    "collapsed": true
   },
   "outputs": [],
   "source": [
    "@measure_time\n",
    "def download(image_results, path=None):\n",
    "    \"\"\"Download a list of images.\n",
    "\n",
    "    Args:\n",
    "        images_list: a list of ImageResult instances\n",
    "        path: path to store downloaded images.\n",
    "    \"\"\"\n",
    "\n",
    "    total_images = len(image_results)\n",
    "    i = 1\n",
    "    for image_result in image_results:\n",
    "\n",
    "        progress = \"\".join([\"Downloading image \", str(i),\n",
    "                            \" (\", str(total_images), \")\"])\n",
    "        print(progress)\n",
    "        sys.stdout.flush()\n",
    "\n",
    "        _download_image(image_result, path)\n",
    "\n",
    "        i += 1"
   ]
  },
  {
   "cell_type": "code",
   "execution_count": 23,
   "metadata": {
    "collapsed": true
   },
   "outputs": [],
   "source": [
    "class ThreadUrl(threading.Thread):\n",
    "\n",
    "    \"\"\"Threaded Url Grab\"\"\"\n",
    "\n",
    "    def __init__(self, queue, path, total):\n",
    "        threading.Thread.__init__(self)\n",
    "        self.queue = queue\n",
    "        self.path = path\n",
    "        self.total = total\n",
    "\n",
    "    def run(self):\n",
    "        while True:\n",
    "            # grabs host from queue\n",
    "            image_result = self.queue.get()\n",
    "\n",
    "            counter = self.total - self.queue.qsize()\n",
    "            progress = \"\".join([\"Downloading image \", str(counter),\n",
    "                                \" (\", str(self.total), \")\"])\n",
    "            print(progress)\n",
    "            sys.stdout.flush()\n",
    "            _download_image(image_result, self.path)\n",
    "\n",
    "            # signals to queue job is done\n",
    "            self.queue.task_done()"
   ]
  },
  {
   "cell_type": "code",
   "execution_count": 24,
   "metadata": {
    "collapsed": true
   },
   "outputs": [],
   "source": [
    "@measure_time\n",
    "def fast_download(image_results, path=None, threads=10):\n",
    "    # print path\n",
    "    queue = queue.Queue()\n",
    "    total = len(image_results)\n",
    "\n",
    "    for image_result in image_results:\n",
    "        queue.put(image_result)\n",
    "\n",
    "    # spawn a pool of threads, and pass them queue instance\n",
    "    for i in range(threads):\n",
    "        t = ThreadUrl(queue, path, total)\n",
    "        t.setDaemon(True)\n",
    "        t.start()\n",
    "\n",
    "    # wait on the queue until everything has been processed\n",
    "    queue.join()"
   ]
  },
  {
   "cell_type": "code",
   "execution_count": 25,
   "metadata": {},
   "outputs": [
    {
     "name": "stderr",
     "output_type": "stream",
     "text": [
      "C:\\Users\\caleb\\Anaconda3\\lib\\site-packages\\bs4\\__init__.py:181: UserWarning: No parser was explicitly specified, so I'm using the best available HTML parser for this system (\"lxml\"). This usually isn't a problem, but if you run this code on another system, or in a different virtual environment, it may use a different parser and behave differently.\n",
      "\n",
      "The code that caused this warning is on line 193 of the file C:\\Users\\caleb\\Anaconda3\\lib\\runpy.py. To get rid of this warning, change code that looks like this:\n",
      "\n",
      " BeautifulSoup(YOUR_MARKUP})\n",
      "\n",
      "to this:\n",
      "\n",
      " BeautifulSoup(YOUR_MARKUP, \"lxml\")\n",
      "\n",
      "  markup_type=markup_type))\n"
     ]
    },
    {
     "data": {
      "text/plain": [
       "[ImageResult(index=4, page=1, domain=www.youtube.com, link=https://i.ytimg.com/vi/CiYltjgWb3s/maxresdefault.jpg),\n",
       " ImageResult(index=37, page=1, domain=www.amazon.com, link=https://images-na.ssl-images-amazon.com/images/I/417VIih99vL.jpg),\n",
       " ImageResult(index=49, page=1, domain=www.shutterstock.com, link=https://image.shutterstock.com/z/stock-vector-vector-cartoon-banana-background-323619959.jpg),\n",
       " ImageResult(index=5, page=1, domain=www.dreamstime.com, link=https://thumbs.dreamstime.com/z/yellow-banana-bunch-white-background-46615297.jpg),\n",
       " ImageResult(index=16, page=1, domain=pngimg.com, link=http://pngimg.com/uploads/banana/banana_PNG838.png),\n",
       " ImageResult(index=26, page=1, domain=www.123rf.com, link=https://previews.123rf.com/images/ivelly/ivelly1107/ivelly110700018/10053340-Photo-realistic-vector-Ripe-yellow-bananas-with-leaves--Stock-Vector.jpg),\n",
       " ImageResult(index=10, page=1, domain=www.specialtyproduce.com, link=http://www.specialtyproduce.com/sppics/919.png),\n",
       " ImageResult(index=20, page=1, domain=www.colourbox.com, link=https://www.colourbox.com/preview/4255419-yellow-banana.jpg),\n",
       " ImageResult(index=33, page=1, domain=pngimg.com, link=http://pngimg.com/uploads/banana/banana_PNG852.png),\n",
       " ImageResult(index=35, page=1, domain=mx.depositphotos.com, link=https://st3.depositphotos.com/1076754/13691/v/450/depositphotos_136918858-stock-illustration-yellow-banana-in-a-milk.jpg),\n",
       " ImageResult(index=39, page=1, domain=www.hesca.org, link=http://www.hesca.org/wp-content/uploads/2016/08/banana.jpg),\n",
       " ImageResult(index=43, page=1, domain=pngimg.com, link=http://pngimg.com/uploads/banana/banana_PNG833.png),\n",
       " ImageResult(index=40, page=1, domain=pixabay.com, link=https://cdn.pixabay.com/photo/2012/04/05/00/32/banana-25339_960_720.png),\n",
       " ImageResult(index=15, page=1, domain=es.fanpop.com, link=http://images6.fanpop.com/image/photos/34500000/Banana-3-bananas-34512812-398-302.jpg),\n",
       " ImageResult(index=41, page=1, domain=colorpalettes.net, link=http://colorpalettes.net/wp-content/uploads/2015/11/color-palette-2395.png),\n",
       " ImageResult(index=36, page=1, domain=www.dreamstime.com, link=https://thumbs.dreamstime.com/z/ripe-yellow-banana-vector-art-27028827.jpg),\n",
       " ImageResult(index=3, page=1, domain=www.ussupplyhouse.com, link=https://www.ussupplyhouse.com/wp-content/uploads/2016/06/Yellow-Banana.jpg),\n",
       " ImageResult(index=14, page=1, domain=www.livescience.com, link=https://img.purch.com/h/1000/aHR0cDovL3d3dy5saXZlc2NpZW5jZS5jb20vaW1hZ2VzL2kvMDAwLzA2NS8xNDkvb3JpZ2luYWwvYmFuYW5hcy5qcGc=),\n",
       " ImageResult(index=18, page=1, domain=pixabay.com, link=https://cdn.pixabay.com/photo/2016/05/30/19/11/banana-1425576_960_720.png),\n",
       " ImageResult(index=22, page=1, domain=pixabay.com, link=https://cdn.pixabay.com/photo/2013/07/12/16/57/banana-151553_960_720.png),\n",
       " ImageResult(index=23, page=1, domain=es.fanpop.com, link=http://images6.fanpop.com/image/photos/34500000/Banana-3-bananas-34512793-475-357.jpg),\n",
       " ImageResult(index=28, page=1, domain=pixabay.com, link=https://cdn.pixabay.com/photo/2016/04/01/11/22/banana-1300310_960_720.png),\n",
       " ImageResult(index=31, page=1, domain=maxpixel.freegreatpicture.com, link=http://maxpixel.freegreatpicture.com/static/photo/1x/Healthy-Yellow-Banana-Peel-Bananas-Fruits-Fruit-1642706.jpg),\n",
       " ImageResult(index=32, page=1, domain=pixabay.com, link=https://cdn.pixabay.com/photo/2013/07/12/16/33/banana-151144_960_720.png),\n",
       " ImageResult(index=21, page=1, domain=pixabay.com, link=https://cdn.pixabay.com/photo/2012/04/26/18/41/banana-42793_960_720.png),\n",
       " ImageResult(index=27, page=1, domain=www.freestockphotos.biz, link=http://res.freestockphotos.biz/pictures/11/11399-illustration-of-a-yellow-banana-pv.png),\n",
       " ImageResult(index=38, page=1, domain=www.benjaminmoore.com, link=https://media.benjaminmoore.com/WebServices/prod/dollops/360x360/2022-40.png),\n",
       " ImageResult(index=47, page=1, domain=www.gettyimages.co.uk, link=http://media.gettyimages.com/photos/yellow-banana-picture-id92013877?s=612x612),\n",
       " ImageResult(index=1, page=1, domain=www.123rf.com, link=https://previews.123rf.com/images/harlowbutler/harlowbutler1112/harlowbutler111200001/11446687-Yellow-banana-Stock-Vector-banana-illustration.jpg),\n",
       " ImageResult(index=8, page=1, domain=www.indiamart.com, link=https://3.imimg.com/data3/PD/JD/IMFCP-8151909/images-gallery-banana-yellow-banana-small-250x250.jpg),\n",
       " ImageResult(index=34, page=1, domain=pngimg.com, link=http://pngimg.com/uploads/banana/banana_PNG849.png),\n",
       " ImageResult(index=46, page=1, domain=mx.depositphotos.com, link=https://st.depositphotos.com/1865899/1821/v/450/depositphotos_18212613-stock-illustration-ripe-yellow-banana-under-palm.jpg),\n",
       " ImageResult(index=7, page=1, domain=namedropping.wordpress.com, link=https://namedropping.files.wordpress.com/2011/09/banana1.jpg),\n",
       " ImageResult(index=13, page=1, domain=www.dreamstime.com, link=https://thumbs.dreamstime.com/z/single-yellow-banana-15876562.jpg),\n",
       " ImageResult(index=12, page=1, domain=pixabay.com, link=https://cdn.pixabay.com/photo/2012/04/03/15/04/banana-25239_960_720.png),\n",
       " ImageResult(index=9, page=1, domain=exchange.smarttech.com, link=http://exchangedownloads.smarttech.com/public/content/db/db9888d1-9f54-43db-a74a-363ce69dc4f9/previews/medium/0001.png),\n",
       " ImageResult(index=24, page=1, domain=www.sactownmag.com, link=http://www.sactownmag.com/The-Weekender/2015/The-6th-annual-Sacramento-Banana-Festival-paints-the-town-yellow-this-weekend/Bananas.png),\n",
       " ImageResult(index=29, page=1, domain=www.colourbox.com, link=https://www.colourbox.com/preview/1712182-photo-of-the-yellow-banana-against-the-white-background.jpg),\n",
       " ImageResult(index=2, page=1, domain=www.3starvegetable.co.in, link=http://2.wlimg.com/product_images/bc-full/dir_113/3362864/yellow-banana-1922139.jpg),\n",
       " ImageResult(index=11, page=1, domain=bananas.wp-example.net, link=http://bananas.wp-example.net/images/bananas.jpg),\n",
       " ImageResult(index=42, page=1, domain=www.shutterstock.com, link=https://thumb9.shutterstock.com/display_pic_with_logo/3650981/539926396/stock-vector-beautiful-vector-illustration-with-banana-and-milk-splashes-yogurt-logo-on-the-yellow-banana-539926396.jpg),\n",
       " ImageResult(index=44, page=1, domain=www.123rf.com, link=https://previews.123rf.com/images/djem/djem1007/djem100700065/7347049-banana-Stock-Photo-banana-fruit-yellow.jpg),\n",
       " ImageResult(index=50, page=2, domain=www.123rf.com, link=https://previews.123rf.com/images/harlowbutler/harlowbutler1112/harlowbutler111200001/11446687-Yellow-banana-Stock-Vector-banana-illustration.jpg),\n",
       " ImageResult(index=6, page=1, domain=www.dreamstime.com, link=https://thumbs.dreamstime.com/z/ripe-yellow-banana-25603876.jpg),\n",
       " ImageResult(index=17, page=1, domain=weknowyourdreams.com, link=http://weknowyourdreams.com/images/banana/banana-03.jpg),\n",
       " ImageResult(index=19, page=1, domain=www.aliexpress.com, link=https://ae01.alicdn.com/kf/HTB1Rbv6MVXXXXbPXVXXq6xXFXXXg/1-Pack-font-b-Yellow-b-font-font-b-Banana-b-font-Tomatoes-Seeds-20pcs-Hybird.jpg),\n",
       " ImageResult(index=25, page=1, domain=www.clker.com, link=https://www.clker.com/cliparts/V/k/g/G/e/a/yellow-banana.svg),\n",
       " ImageResult(index=30, page=1, domain=www.pinterest.com, link=https://i.pinimg.com/736x/09/5a/4c/095a4c1b0a0293cfcc34bdada081f2b2--color-yellow-mellow-yellow.jpg),\n",
       " ImageResult(index=45, page=1, domain=www.khushhalgreens.co.in, link=http://2.wlimg.com/product_images/bc-full/dir_115/3420934/fresh-yellow-banana-1671475.jpg),\n",
       " ImageResult(index=48, page=1, domain=rampages.us, link=http://static.tumblr.com/2gt4nre/iwBm4ohwn/lots_of_bananas.jpeg)]"
      ]
     },
     "execution_count": 25,
     "metadata": {},
     "output_type": "execute_result"
    }
   ],
   "source": [
    "search(\"yellow banana\")"
   ]
  },
  {
   "cell_type": "code",
   "execution_count": 34,
   "metadata": {},
   "outputs": [
    {
     "data": {
      "text/plain": [
       "'https://www.google.com.ar/search?q=google.com&es_sm=122&source=lnms&tbm=isch&sa=X&ei=DDdUVL-fE4SpNq-ngPgK&ved=0CAgQ_AUoAQ&biw=1024&bih=719&dpr=1.25'"
      ]
     },
     "execution_count": 34,
     "metadata": {},
     "output_type": "execute_result"
    }
   ],
   "source": [
    "_get_images_req_url(\"google.com\")"
   ]
  },
  {
   "cell_type": "code",
   "execution_count": 36,
   "metadata": {},
   "outputs": [
    {
     "ename": "WebDriverException",
     "evalue": "Message: Malformed URL: www.google.com is not a valid URL.\n",
     "output_type": "error",
     "traceback": [
      "\u001b[1;31m---------------------------------------------------------------------------\u001b[0m",
      "\u001b[1;31mWebDriverException\u001b[0m                        Traceback (most recent call last)",
      "\u001b[1;32m<ipython-input-36-9620235b9ced>\u001b[0m in \u001b[0;36m<module>\u001b[1;34m()\u001b[0m\n\u001b[1;32m----> 1\u001b[1;33m \u001b[0mbrowser\u001b[0m \u001b[1;33m=\u001b[0m \u001b[0mget_browser_with_url\u001b[0m\u001b[1;33m(\u001b[0m\u001b[1;34m\"www.google.com\"\u001b[0m\u001b[1;33m)\u001b[0m\u001b[1;33m\u001b[0m\u001b[0m\n\u001b[0m",
      "\u001b[1;32mD:\\Users\\cmoses\\Documents\\Work\\hackathon\\utils.py\u001b[0m in \u001b[0;36mget_browser_with_url\u001b[1;34m(url, timeout, driver)\u001b[0m\n\u001b[0;32m     90\u001b[0m \u001b[1;33m\u001b[0m\u001b[0m\n\u001b[0;32m     91\u001b[0m     \u001b[1;31m# open a browser with given url\u001b[0m\u001b[1;33m\u001b[0m\u001b[1;33m\u001b[0m\u001b[0m\n\u001b[1;32m---> 92\u001b[1;33m     \u001b[0mbrowser\u001b[0m\u001b[1;33m.\u001b[0m\u001b[0mget\u001b[0m\u001b[1;33m(\u001b[0m\u001b[0murl\u001b[0m\u001b[1;33m)\u001b[0m\u001b[1;33m\u001b[0m\u001b[0m\n\u001b[0m\u001b[0;32m     93\u001b[0m \u001b[1;33m\u001b[0m\u001b[0m\n\u001b[0;32m     94\u001b[0m     \u001b[0mtime\u001b[0m\u001b[1;33m.\u001b[0m\u001b[0msleep\u001b[0m\u001b[1;33m(\u001b[0m\u001b[1;36m0.5\u001b[0m\u001b[1;33m)\u001b[0m\u001b[1;33m\u001b[0m\u001b[0m\n",
      "\u001b[1;32mC:\\Users\\caleb\\Anaconda3\\lib\\site-packages\\selenium\\webdriver\\remote\\webdriver.py\u001b[0m in \u001b[0;36mget\u001b[1;34m(self, url)\u001b[0m\n\u001b[0;32m    307\u001b[0m         \u001b[0mLoads\u001b[0m \u001b[0ma\u001b[0m \u001b[0mweb\u001b[0m \u001b[0mpage\u001b[0m \u001b[1;32min\u001b[0m \u001b[0mthe\u001b[0m \u001b[0mcurrent\u001b[0m \u001b[0mbrowser\u001b[0m \u001b[0msession\u001b[0m\u001b[1;33m.\u001b[0m\u001b[1;33m\u001b[0m\u001b[0m\n\u001b[0;32m    308\u001b[0m         \"\"\"\n\u001b[1;32m--> 309\u001b[1;33m         \u001b[0mself\u001b[0m\u001b[1;33m.\u001b[0m\u001b[0mexecute\u001b[0m\u001b[1;33m(\u001b[0m\u001b[0mCommand\u001b[0m\u001b[1;33m.\u001b[0m\u001b[0mGET\u001b[0m\u001b[1;33m,\u001b[0m \u001b[1;33m{\u001b[0m\u001b[1;34m'url'\u001b[0m\u001b[1;33m:\u001b[0m \u001b[0murl\u001b[0m\u001b[1;33m}\u001b[0m\u001b[1;33m)\u001b[0m\u001b[1;33m\u001b[0m\u001b[0m\n\u001b[0m\u001b[0;32m    310\u001b[0m \u001b[1;33m\u001b[0m\u001b[0m\n\u001b[0;32m    311\u001b[0m     \u001b[1;33m@\u001b[0m\u001b[0mproperty\u001b[0m\u001b[1;33m\u001b[0m\u001b[0m\n",
      "\u001b[1;32mC:\\Users\\caleb\\Anaconda3\\lib\\site-packages\\selenium\\webdriver\\remote\\webdriver.py\u001b[0m in \u001b[0;36mexecute\u001b[1;34m(self, driver_command, params)\u001b[0m\n\u001b[0;32m    295\u001b[0m         \u001b[0mresponse\u001b[0m \u001b[1;33m=\u001b[0m \u001b[0mself\u001b[0m\u001b[1;33m.\u001b[0m\u001b[0mcommand_executor\u001b[0m\u001b[1;33m.\u001b[0m\u001b[0mexecute\u001b[0m\u001b[1;33m(\u001b[0m\u001b[0mdriver_command\u001b[0m\u001b[1;33m,\u001b[0m \u001b[0mparams\u001b[0m\u001b[1;33m)\u001b[0m\u001b[1;33m\u001b[0m\u001b[0m\n\u001b[0;32m    296\u001b[0m         \u001b[1;32mif\u001b[0m \u001b[0mresponse\u001b[0m\u001b[1;33m:\u001b[0m\u001b[1;33m\u001b[0m\u001b[0m\n\u001b[1;32m--> 297\u001b[1;33m             \u001b[0mself\u001b[0m\u001b[1;33m.\u001b[0m\u001b[0merror_handler\u001b[0m\u001b[1;33m.\u001b[0m\u001b[0mcheck_response\u001b[0m\u001b[1;33m(\u001b[0m\u001b[0mresponse\u001b[0m\u001b[1;33m)\u001b[0m\u001b[1;33m\u001b[0m\u001b[0m\n\u001b[0m\u001b[0;32m    298\u001b[0m             response['value'] = self._unwrap_value(\n\u001b[0;32m    299\u001b[0m                 response.get('value', None))\n",
      "\u001b[1;32mC:\\Users\\caleb\\Anaconda3\\lib\\site-packages\\selenium\\webdriver\\remote\\errorhandler.py\u001b[0m in \u001b[0;36mcheck_response\u001b[1;34m(self, response)\u001b[0m\n\u001b[0;32m    192\u001b[0m         \u001b[1;32melif\u001b[0m \u001b[0mexception_class\u001b[0m \u001b[1;33m==\u001b[0m \u001b[0mUnexpectedAlertPresentException\u001b[0m \u001b[1;32mand\u001b[0m \u001b[1;34m'alert'\u001b[0m \u001b[1;32min\u001b[0m \u001b[0mvalue\u001b[0m\u001b[1;33m:\u001b[0m\u001b[1;33m\u001b[0m\u001b[0m\n\u001b[0;32m    193\u001b[0m             \u001b[1;32mraise\u001b[0m \u001b[0mexception_class\u001b[0m\u001b[1;33m(\u001b[0m\u001b[0mmessage\u001b[0m\u001b[1;33m,\u001b[0m \u001b[0mscreen\u001b[0m\u001b[1;33m,\u001b[0m \u001b[0mstacktrace\u001b[0m\u001b[1;33m,\u001b[0m \u001b[0mvalue\u001b[0m\u001b[1;33m[\u001b[0m\u001b[1;34m'alert'\u001b[0m\u001b[1;33m]\u001b[0m\u001b[1;33m.\u001b[0m\u001b[0mget\u001b[0m\u001b[1;33m(\u001b[0m\u001b[1;34m'text'\u001b[0m\u001b[1;33m)\u001b[0m\u001b[1;33m)\u001b[0m\u001b[1;33m\u001b[0m\u001b[0m\n\u001b[1;32m--> 194\u001b[1;33m         \u001b[1;32mraise\u001b[0m \u001b[0mexception_class\u001b[0m\u001b[1;33m(\u001b[0m\u001b[0mmessage\u001b[0m\u001b[1;33m,\u001b[0m \u001b[0mscreen\u001b[0m\u001b[1;33m,\u001b[0m \u001b[0mstacktrace\u001b[0m\u001b[1;33m)\u001b[0m\u001b[1;33m\u001b[0m\u001b[0m\n\u001b[0m\u001b[0;32m    195\u001b[0m \u001b[1;33m\u001b[0m\u001b[0m\n\u001b[0;32m    196\u001b[0m     \u001b[1;32mdef\u001b[0m \u001b[0m_value_or_default\u001b[0m\u001b[1;33m(\u001b[0m\u001b[0mself\u001b[0m\u001b[1;33m,\u001b[0m \u001b[0mobj\u001b[0m\u001b[1;33m,\u001b[0m \u001b[0mkey\u001b[0m\u001b[1;33m,\u001b[0m \u001b[0mdefault\u001b[0m\u001b[1;33m)\u001b[0m\u001b[1;33m:\u001b[0m\u001b[1;33m\u001b[0m\u001b[0m\n",
      "\u001b[1;31mWebDriverException\u001b[0m: Message: Malformed URL: www.google.com is not a valid URL.\n"
     ]
    }
   ],
   "source": [
    "browser = get_browser_with_url(\"https://www.google.com\")"
   ]
  },
  {
   "cell_type": "code",
   "execution_count": 2,
   "metadata": {},
   "outputs": [],
   "source": [
    "import pandas as pd"
   ]
  },
  {
   "cell_type": "code",
   "execution_count": 5,
   "metadata": {
    "scrolled": true
   },
   "outputs": [
    {
     "data": {
      "text/html": [
       "<div>\n",
       "<style>\n",
       "    .dataframe thead tr:only-child th {\n",
       "        text-align: right;\n",
       "    }\n",
       "\n",
       "    .dataframe thead th {\n",
       "        text-align: left;\n",
       "    }\n",
       "\n",
       "    .dataframe tbody tr th {\n",
       "        vertical-align: top;\n",
       "    }\n",
       "</style>\n",
       "<table border=\"1\" class=\"dataframe\">\n",
       "  <thead>\n",
       "    <tr style=\"text-align: right;\">\n",
       "      <th></th>\n",
       "      <th>COUNTRY</th>\n",
       "      <th>CODE</th>\n",
       "    </tr>\n",
       "  </thead>\n",
       "  <tbody>\n",
       "    <tr>\n",
       "      <th>0</th>\n",
       "      <td>Afghanistan</td>\n",
       "      <td>AFG</td>\n",
       "    </tr>\n",
       "    <tr>\n",
       "      <th>1</th>\n",
       "      <td>Albania</td>\n",
       "      <td>ALB</td>\n",
       "    </tr>\n",
       "    <tr>\n",
       "      <th>2</th>\n",
       "      <td>Algeria</td>\n",
       "      <td>DZA</td>\n",
       "    </tr>\n",
       "    <tr>\n",
       "      <th>3</th>\n",
       "      <td>American Samoa</td>\n",
       "      <td>ASM</td>\n",
       "    </tr>\n",
       "    <tr>\n",
       "      <th>4</th>\n",
       "      <td>Andorra</td>\n",
       "      <td>AND</td>\n",
       "    </tr>\n",
       "    <tr>\n",
       "      <th>5</th>\n",
       "      <td>Angola</td>\n",
       "      <td>AGO</td>\n",
       "    </tr>\n",
       "    <tr>\n",
       "      <th>6</th>\n",
       "      <td>Anguilla</td>\n",
       "      <td>AIA</td>\n",
       "    </tr>\n",
       "    <tr>\n",
       "      <th>7</th>\n",
       "      <td>Antigua and Barbuda</td>\n",
       "      <td>ATG</td>\n",
       "    </tr>\n",
       "    <tr>\n",
       "      <th>8</th>\n",
       "      <td>Argentina</td>\n",
       "      <td>ARG</td>\n",
       "    </tr>\n",
       "    <tr>\n",
       "      <th>9</th>\n",
       "      <td>Armenia</td>\n",
       "      <td>ARM</td>\n",
       "    </tr>\n",
       "    <tr>\n",
       "      <th>10</th>\n",
       "      <td>Aruba</td>\n",
       "      <td>ABW</td>\n",
       "    </tr>\n",
       "    <tr>\n",
       "      <th>11</th>\n",
       "      <td>Australia</td>\n",
       "      <td>AUS</td>\n",
       "    </tr>\n",
       "    <tr>\n",
       "      <th>12</th>\n",
       "      <td>Austria</td>\n",
       "      <td>AUT</td>\n",
       "    </tr>\n",
       "    <tr>\n",
       "      <th>13</th>\n",
       "      <td>Azerbaijan</td>\n",
       "      <td>AZE</td>\n",
       "    </tr>\n",
       "    <tr>\n",
       "      <th>14</th>\n",
       "      <td>Bahamas, The</td>\n",
       "      <td>BHM</td>\n",
       "    </tr>\n",
       "    <tr>\n",
       "      <th>15</th>\n",
       "      <td>Bahrain</td>\n",
       "      <td>BHR</td>\n",
       "    </tr>\n",
       "    <tr>\n",
       "      <th>16</th>\n",
       "      <td>Bangladesh</td>\n",
       "      <td>BGD</td>\n",
       "    </tr>\n",
       "    <tr>\n",
       "      <th>17</th>\n",
       "      <td>Barbados</td>\n",
       "      <td>BRB</td>\n",
       "    </tr>\n",
       "    <tr>\n",
       "      <th>18</th>\n",
       "      <td>Belarus</td>\n",
       "      <td>BLR</td>\n",
       "    </tr>\n",
       "    <tr>\n",
       "      <th>19</th>\n",
       "      <td>Belgium</td>\n",
       "      <td>BEL</td>\n",
       "    </tr>\n",
       "    <tr>\n",
       "      <th>20</th>\n",
       "      <td>Belize</td>\n",
       "      <td>BLZ</td>\n",
       "    </tr>\n",
       "    <tr>\n",
       "      <th>21</th>\n",
       "      <td>Benin</td>\n",
       "      <td>BEN</td>\n",
       "    </tr>\n",
       "    <tr>\n",
       "      <th>22</th>\n",
       "      <td>Bermuda</td>\n",
       "      <td>BMU</td>\n",
       "    </tr>\n",
       "    <tr>\n",
       "      <th>23</th>\n",
       "      <td>Bhutan</td>\n",
       "      <td>BTN</td>\n",
       "    </tr>\n",
       "    <tr>\n",
       "      <th>24</th>\n",
       "      <td>Bolivia</td>\n",
       "      <td>BOL</td>\n",
       "    </tr>\n",
       "    <tr>\n",
       "      <th>25</th>\n",
       "      <td>Bosnia and Herzegovina</td>\n",
       "      <td>BIH</td>\n",
       "    </tr>\n",
       "    <tr>\n",
       "      <th>26</th>\n",
       "      <td>Botswana</td>\n",
       "      <td>BWA</td>\n",
       "    </tr>\n",
       "    <tr>\n",
       "      <th>27</th>\n",
       "      <td>Brazil</td>\n",
       "      <td>BRA</td>\n",
       "    </tr>\n",
       "    <tr>\n",
       "      <th>28</th>\n",
       "      <td>British Virgin Islands</td>\n",
       "      <td>VGB</td>\n",
       "    </tr>\n",
       "    <tr>\n",
       "      <th>29</th>\n",
       "      <td>Brunei</td>\n",
       "      <td>BRN</td>\n",
       "    </tr>\n",
       "    <tr>\n",
       "      <th>...</th>\n",
       "      <td>...</td>\n",
       "      <td>...</td>\n",
       "    </tr>\n",
       "    <tr>\n",
       "      <th>192</th>\n",
       "      <td>Sweden</td>\n",
       "      <td>SWE</td>\n",
       "    </tr>\n",
       "    <tr>\n",
       "      <th>193</th>\n",
       "      <td>Switzerland</td>\n",
       "      <td>CHE</td>\n",
       "    </tr>\n",
       "    <tr>\n",
       "      <th>194</th>\n",
       "      <td>Syria</td>\n",
       "      <td>SYR</td>\n",
       "    </tr>\n",
       "    <tr>\n",
       "      <th>195</th>\n",
       "      <td>Taiwan</td>\n",
       "      <td>TWN</td>\n",
       "    </tr>\n",
       "    <tr>\n",
       "      <th>196</th>\n",
       "      <td>Tajikistan</td>\n",
       "      <td>TJK</td>\n",
       "    </tr>\n",
       "    <tr>\n",
       "      <th>197</th>\n",
       "      <td>Tanzania</td>\n",
       "      <td>TZA</td>\n",
       "    </tr>\n",
       "    <tr>\n",
       "      <th>198</th>\n",
       "      <td>Thailand</td>\n",
       "      <td>THA</td>\n",
       "    </tr>\n",
       "    <tr>\n",
       "      <th>199</th>\n",
       "      <td>Timor-Leste</td>\n",
       "      <td>TLS</td>\n",
       "    </tr>\n",
       "    <tr>\n",
       "      <th>200</th>\n",
       "      <td>Togo</td>\n",
       "      <td>TGO</td>\n",
       "    </tr>\n",
       "    <tr>\n",
       "      <th>201</th>\n",
       "      <td>Tonga</td>\n",
       "      <td>TON</td>\n",
       "    </tr>\n",
       "    <tr>\n",
       "      <th>202</th>\n",
       "      <td>Trinidad and Tobago</td>\n",
       "      <td>TTO</td>\n",
       "    </tr>\n",
       "    <tr>\n",
       "      <th>203</th>\n",
       "      <td>Tunisia</td>\n",
       "      <td>TUN</td>\n",
       "    </tr>\n",
       "    <tr>\n",
       "      <th>204</th>\n",
       "      <td>Turkey</td>\n",
       "      <td>TUR</td>\n",
       "    </tr>\n",
       "    <tr>\n",
       "      <th>205</th>\n",
       "      <td>Turkmenistan</td>\n",
       "      <td>TKM</td>\n",
       "    </tr>\n",
       "    <tr>\n",
       "      <th>206</th>\n",
       "      <td>Tuvalu</td>\n",
       "      <td>TUV</td>\n",
       "    </tr>\n",
       "    <tr>\n",
       "      <th>207</th>\n",
       "      <td>Uganda</td>\n",
       "      <td>UGA</td>\n",
       "    </tr>\n",
       "    <tr>\n",
       "      <th>208</th>\n",
       "      <td>Ukraine</td>\n",
       "      <td>UKR</td>\n",
       "    </tr>\n",
       "    <tr>\n",
       "      <th>209</th>\n",
       "      <td>United Arab Emirates</td>\n",
       "      <td>ARE</td>\n",
       "    </tr>\n",
       "    <tr>\n",
       "      <th>210</th>\n",
       "      <td>United Kingdom</td>\n",
       "      <td>GBR</td>\n",
       "    </tr>\n",
       "    <tr>\n",
       "      <th>211</th>\n",
       "      <td>United States</td>\n",
       "      <td>USA</td>\n",
       "    </tr>\n",
       "    <tr>\n",
       "      <th>212</th>\n",
       "      <td>Uruguay</td>\n",
       "      <td>URY</td>\n",
       "    </tr>\n",
       "    <tr>\n",
       "      <th>213</th>\n",
       "      <td>Uzbekistan</td>\n",
       "      <td>UZB</td>\n",
       "    </tr>\n",
       "    <tr>\n",
       "      <th>214</th>\n",
       "      <td>Vanuatu</td>\n",
       "      <td>VUT</td>\n",
       "    </tr>\n",
       "    <tr>\n",
       "      <th>215</th>\n",
       "      <td>Venezuela</td>\n",
       "      <td>VEN</td>\n",
       "    </tr>\n",
       "    <tr>\n",
       "      <th>216</th>\n",
       "      <td>Vietnam</td>\n",
       "      <td>VNM</td>\n",
       "    </tr>\n",
       "    <tr>\n",
       "      <th>217</th>\n",
       "      <td>Virgin Islands</td>\n",
       "      <td>VGB</td>\n",
       "    </tr>\n",
       "    <tr>\n",
       "      <th>218</th>\n",
       "      <td>West Bank</td>\n",
       "      <td>WBG</td>\n",
       "    </tr>\n",
       "    <tr>\n",
       "      <th>219</th>\n",
       "      <td>Yemen</td>\n",
       "      <td>YEM</td>\n",
       "    </tr>\n",
       "    <tr>\n",
       "      <th>220</th>\n",
       "      <td>Zambia</td>\n",
       "      <td>ZMB</td>\n",
       "    </tr>\n",
       "    <tr>\n",
       "      <th>221</th>\n",
       "      <td>Zimbabwe</td>\n",
       "      <td>ZWE</td>\n",
       "    </tr>\n",
       "  </tbody>\n",
       "</table>\n",
       "<p>222 rows × 2 columns</p>\n",
       "</div>"
      ],
      "text/plain": [
       "                    COUNTRY CODE\n",
       "0               Afghanistan  AFG\n",
       "1                   Albania  ALB\n",
       "2                   Algeria  DZA\n",
       "3            American Samoa  ASM\n",
       "4                   Andorra  AND\n",
       "5                    Angola  AGO\n",
       "6                  Anguilla  AIA\n",
       "7       Antigua and Barbuda  ATG\n",
       "8                 Argentina  ARG\n",
       "9                   Armenia  ARM\n",
       "10                    Aruba  ABW\n",
       "11                Australia  AUS\n",
       "12                  Austria  AUT\n",
       "13               Azerbaijan  AZE\n",
       "14             Bahamas, The  BHM\n",
       "15                  Bahrain  BHR\n",
       "16               Bangladesh  BGD\n",
       "17                 Barbados  BRB\n",
       "18                  Belarus  BLR\n",
       "19                  Belgium  BEL\n",
       "20                   Belize  BLZ\n",
       "21                    Benin  BEN\n",
       "22                  Bermuda  BMU\n",
       "23                   Bhutan  BTN\n",
       "24                  Bolivia  BOL\n",
       "25   Bosnia and Herzegovina  BIH\n",
       "26                 Botswana  BWA\n",
       "27                   Brazil  BRA\n",
       "28   British Virgin Islands  VGB\n",
       "29                   Brunei  BRN\n",
       "..                      ...  ...\n",
       "192                  Sweden  SWE\n",
       "193             Switzerland  CHE\n",
       "194                   Syria  SYR\n",
       "195                  Taiwan  TWN\n",
       "196              Tajikistan  TJK\n",
       "197                Tanzania  TZA\n",
       "198                Thailand  THA\n",
       "199             Timor-Leste  TLS\n",
       "200                    Togo  TGO\n",
       "201                   Tonga  TON\n",
       "202     Trinidad and Tobago  TTO\n",
       "203                 Tunisia  TUN\n",
       "204                  Turkey  TUR\n",
       "205            Turkmenistan  TKM\n",
       "206                  Tuvalu  TUV\n",
       "207                  Uganda  UGA\n",
       "208                 Ukraine  UKR\n",
       "209    United Arab Emirates  ARE\n",
       "210          United Kingdom  GBR\n",
       "211           United States  USA\n",
       "212                 Uruguay  URY\n",
       "213              Uzbekistan  UZB\n",
       "214                 Vanuatu  VUT\n",
       "215               Venezuela  VEN\n",
       "216                 Vietnam  VNM\n",
       "217          Virgin Islands  VGB\n",
       "218               West Bank  WBG\n",
       "219                   Yemen  YEM\n",
       "220                  Zambia  ZMB\n",
       "221                Zimbabwe  ZWE\n",
       "\n",
       "[222 rows x 2 columns]"
      ]
     },
     "execution_count": 5,
     "metadata": {},
     "output_type": "execute_result"
    }
   ],
   "source": [
    "pd.read_csv(\"country_codes.csv\")"
   ]
  },
  {
   "cell_type": "code",
   "execution_count": null,
   "metadata": {
    "collapsed": true
   },
   "outputs": [],
   "source": []
  },
  {
   "cell_type": "code",
   "execution_count": null,
   "metadata": {
    "collapsed": true
   },
   "outputs": [],
   "source": []
  },
  {
   "cell_type": "code",
   "execution_count": null,
   "metadata": {
    "collapsed": true
   },
   "outputs": [],
   "source": []
  },
  {
   "cell_type": "code",
   "execution_count": null,
   "metadata": {
    "collapsed": true
   },
   "outputs": [],
   "source": []
  },
  {
   "cell_type": "code",
   "execution_count": null,
   "metadata": {
    "collapsed": true
   },
   "outputs": [],
   "source": []
  },
  {
   "cell_type": "code",
   "execution_count": null,
   "metadata": {
    "collapsed": true
   },
   "outputs": [],
   "source": []
  },
  {
   "cell_type": "code",
   "execution_count": null,
   "metadata": {
    "collapsed": true
   },
   "outputs": [],
   "source": []
  },
  {
   "cell_type": "code",
   "execution_count": null,
   "metadata": {
    "collapsed": true
   },
   "outputs": [],
   "source": []
  },
  {
   "cell_type": "code",
   "execution_count": null,
   "metadata": {
    "collapsed": true
   },
   "outputs": [],
   "source": []
  },
  {
   "cell_type": "code",
   "execution_count": null,
   "metadata": {
    "collapsed": true
   },
   "outputs": [],
   "source": []
  },
  {
   "cell_type": "code",
   "execution_count": null,
   "metadata": {
    "collapsed": true
   },
   "outputs": [],
   "source": []
  },
  {
   "cell_type": "code",
   "execution_count": null,
   "metadata": {
    "collapsed": true
   },
   "outputs": [],
   "source": []
  },
  {
   "cell_type": "code",
   "execution_count": null,
   "metadata": {
    "collapsed": true
   },
   "outputs": [],
   "source": []
  },
  {
   "cell_type": "code",
   "execution_count": null,
   "metadata": {
    "collapsed": true
   },
   "outputs": [],
   "source": []
  },
  {
   "cell_type": "code",
   "execution_count": null,
   "metadata": {
    "collapsed": true
   },
   "outputs": [],
   "source": []
  },
  {
   "cell_type": "code",
   "execution_count": null,
   "metadata": {
    "collapsed": true
   },
   "outputs": [],
   "source": []
  },
  {
   "cell_type": "code",
   "execution_count": null,
   "metadata": {
    "collapsed": true
   },
   "outputs": [],
   "source": []
  },
  {
   "cell_type": "code",
   "execution_count": null,
   "metadata": {
    "collapsed": true
   },
   "outputs": [],
   "source": []
  },
  {
   "cell_type": "code",
   "execution_count": null,
   "metadata": {
    "collapsed": true
   },
   "outputs": [],
   "source": []
  },
  {
   "cell_type": "code",
   "execution_count": null,
   "metadata": {
    "collapsed": true
   },
   "outputs": [],
   "source": []
  },
  {
   "cell_type": "code",
   "execution_count": null,
   "metadata": {
    "collapsed": true
   },
   "outputs": [],
   "source": []
  },
  {
   "cell_type": "code",
   "execution_count": null,
   "metadata": {
    "collapsed": true
   },
   "outputs": [],
   "source": []
  }
 ],
 "metadata": {
  "kernelspec": {
   "display_name": "Python 3",
   "language": "python",
   "name": "python3"
  },
  "language_info": {
   "codemirror_mode": {
    "name": "ipython",
    "version": 3
   },
   "file_extension": ".py",
   "mimetype": "text/x-python",
   "name": "python",
   "nbconvert_exporter": "python",
   "pygments_lexer": "ipython3",
   "version": "3.6.1"
  }
 },
 "nbformat": 4,
 "nbformat_minor": 2
}
